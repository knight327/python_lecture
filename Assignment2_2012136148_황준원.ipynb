{
 "cells": [
  {
   "cell_type": "markdown",
   "metadata": {},
   "source": [
    "다음 6 개의 Expression에 대해 Evaluation 결과 값을 출력하고, 해당 결과가 나온 이유에 대해 설명하시오\n",
    "1 and 2 and 3 and 4\n",
    "1 or 2 or 3 or 4\n",
    "1 and 2 or 3 and 4\n",
    "(1 and 2) or (3 and 4)\n",
    "1 or 2 and 3 or 4\n",
    "(1 or 2) and (3 or 4)"
   ]
  },
  {
   "cell_type": "code",
   "execution_count": 1,
   "metadata": {
    "collapsed": false
   },
   "outputs": [
    {
     "name": "stdout",
     "output_type": "stream",
     "text": [
      "4\n",
      "1\n",
      "2\n",
      "2\n",
      "1\n",
      "3\n"
     ]
    }
   ],
   "source": [
    "print eval(repr(1 and 2 and 3 and 4))\n",
    "print eval(repr(1 or 2 or 3 or 4 ))\n",
    "print eval(repr(1 and 2 or 3 and 4))\n",
    "print eval(repr((1 and 2) or (3 and 4)))\n",
    "print eval(repr(1 or 2 and 3 or 4))\n",
    "print eval(repr((1 or 2) and (3 or 4)))"
   ]
  },
  {
   "cell_type": "markdown",
   "metadata": {},
   "source": [
    "1. and 연산자이기때문에 맨앞이 참이여도 뒤에가 참인지 확인하므로 맨마지막이 출력된다\n",
    "2. or 연산자는 앞의 결과가 참이면 뒤에것의 영향을 받지않기때문에 맨 앞이 출력된다.\n",
    "3. 앞의 and 에서 2라는 참값을 찾은 후 or 앞에서 참값이 나왔기때문에 2가 출력된다.\n",
    "4. 3번과 같은 방식이다.\n",
    "5. or 값의 참이 먼저 나왔으므로 뒤에 연산을 보지않는다.\n",
    "6. 앞의 or에서 1을 참으로 찾았으나 and 연산때문에 뒤의 참값도 확인하므로 뒤의 참값 3이 출력된다. "
   ]
  },
  {
   "cell_type": "markdown",
   "metadata": {},
   "source": [
    "키보드로 정수값을 입력 받고 그 값이 양수인지 음수인지를 비트 연산자를 이용하여 판단하는 프로그램을 작성하시오."
   ]
  },
  {
   "cell_type": "code",
   "execution_count": 2,
   "metadata": {
    "collapsed": false
   },
   "outputs": [
    {
     "name": "stdout",
     "output_type": "stream",
     "text": [
      "Enter any number:-3\n",
      "That number is negative\n"
     ]
    }
   ],
   "source": [
    "import math\n",
    "num = eval(raw_input('Enter any number:'))\n",
    "s = str(bin(num))\n",
    "if s[0] == '0':\n",
    "    print \"That number is positive\"\n",
    "else:\n",
    "    print \"That number is negative\""
   ]
  },
  {
   "cell_type": "markdown",
   "metadata": {
    "collapsed": true
   },
   "source": [
    "수를 eval(raw_input)으로 받음으로써 int형 데이타를 받게하여 그 수를 비트화 시킨 후 그 수를 문자열화하여\n",
    "맨앞의 수가 0인지 아닌지 판단하여 양수인지 음수인지 알려주게 작성하였습니다.\n"
   ]
  },
  {
   "cell_type": "markdown",
   "metadata": {},
   "source": [
    "경로에 해당하는 문자열 1개를 입력 받아 그 안에 디렉토리 경로명과 파일명을 분리하여 리스트로 반환하는 함수 div_path(s)를 작성하시오.\n",
    "인자로 전달하는 문자열은 경로만 들어간다고 가정한다.\n",
    "각 디렉토리와 파일을 구분하는 문자는 '/'로 가정한다.\n",
    "반환하는 리스트의 첫번째 원소는 디렉토리이고 두번째 원소는 파일명이다.\n",
    "다음과 같은 실행 및 출력 결과가 도출되어야 한다.\n",
    "div_path('/usr/local/bin/python')\n",
    "['/usr/local/bin', 'python']\n",
    "div_path('/home/chulsoo/test.txt')\n",
    "['/home/chulsoo', 'test.txt']\n",
    "[참고] 리스트(l) 내에 새로운 정수값 (예를 들어 10)을 넣는 방법은 l.append(10) 이다.\n"
   ]
  },
  {
   "cell_type": "code",
   "execution_count": 3,
   "metadata": {
    "collapsed": false
   },
   "outputs": [
    {
     "name": "stdout",
     "output_type": "stream",
     "text": [
      "Write the url :/s/t.txt\n",
      "['/s', 't.txt']\n"
     ]
    }
   ],
   "source": [
    "def div_path(s):\n",
    "    result = \"\"\n",
    "    w = \"\"\n",
    "    w2 = \"\"\n",
    "    again = \"\"\n",
    "    again2 = \"\"\n",
    "    l = []\n",
    "    for x in reversed(s):\n",
    "        result += x\n",
    "    a = result.find('/')\n",
    "    w = result[a+1:]\n",
    "    w2 = result[0:a]\n",
    "    for x in reversed(w2):\n",
    "        again2 += x\n",
    "    for x in reversed(w):\n",
    "        again += x\n",
    "    l.append(again)\n",
    "    l.append(again2)\n",
    "    return l\n",
    "words = raw_input('Write the url :')\n",
    "l1 = []\n",
    "l1 = div_path(words)\n",
    "print l1"
   ]
  },
  {
   "cell_type": "markdown",
   "metadata": {},
   "source": [
    "계속 존재하는 /를 통해 문자열을 구분하는 방법을 생각하기 어려워 단순히 문자열을 받고 문자열을 뒤집어 /를 찾은 후 /뒤에 전체와 / 앞을 각각 \n",
    "새로운 문자열에 저장하고 다시 그 두 문자열을 뒤집어서 리스트에 첨부함으로써 코드를 완성하였습니다. "
   ]
  },
  {
   "cell_type": "markdown",
   "metadata": {},
   "source": [
    "두 개의 리스트를 인자로 받아서 그 두 개의 리스트에 대한 '합집합'을 반환하는 함수 list_union(lista, listb)를 작성하시오.\n",
    "인자로 전달하는 리스트 2 개에는 정수값만 들어간다고 가정하자.\n",
    "함수 내에서 새로운 리스트를 만들어 그 리스트 내에 인자로 받은 두 리스트의 모든 원소를 넣어 반환한다.\n",
    "반환하는 리스트에는 절대로 중복된 원소가 들어 있으면 안된다 (집합의 조건).\n",
    "반환하는 리스트는 정렬이 되어 있어야 한다.\n",
    "다음과 같은 실행 및 출력 결과가 도출되어야 한다.\n",
    "list_union([1, 2, 3], [1, 2, 4])\n",
    "[1, 2, 3, 4]\n",
    "list_union([-10, -5, 0, -1], [100, 9, 0, 9])\n",
    "[-10, -5, -1, 0, 9, 100]\n",
    "list_union([0, 1, 2], [0, 1, 2])\n",
    "[0, 1, 2]\n",
    "[참고] 리스트(l) 내에 새로운 정수값 (예를 들어 10)을 넣는 방법은 l.append(10) 이다.\n",
    "[참고] 임의의 정수값 (x)이 리스트 (l) 내에 존재하는지 판단하는 방법은 x in l 이다.\n",
    "\n",
    "\n"
   ]
  },
  {
   "cell_type": "code",
   "execution_count": 26,
   "metadata": {
    "collapsed": false
   },
   "outputs": [
    {
     "name": "stdout",
     "output_type": "stream",
     "text": [
      "[1, 2, 3, 4]\n",
      "[-10, -5, -1, 0, 9, 100]\n",
      "[0, 1, 2]\n"
     ]
    }
   ],
   "source": [
    "\n",
    "def list_union(la,lb):\n",
    "    l1 = la\n",
    "    for x in lb:\n",
    "        if x not in l1:\n",
    "            l1.append(x)\n",
    "    l1.sort()\n",
    "    return l1\n",
    "\n",
    "print list_union([1, 2, 3], [1, 2, 4])\n",
    "print list_union([-10,-5,0,-1], [100,9,0,9])\n",
    "print list_union([0,1,2], [0,1,2])\n",
    "\n"
   ]
  },
  {
   "cell_type": "markdown",
   "metadata": {},
   "source": [
    "la 리스트를 받은후 lb값과 비교하여 l1에 첨부한후 정리한다. \n"
   ]
  },
  {
   "cell_type": "markdown",
   "metadata": {},
   "source": [
    "앞에서부터 읽을 때나 뒤에서부터 읽을 때나 모양이 같은 수를 대칭수(palindrome)라고 부릅니다.\n",
    "\n",
    "두 자리 수를 곱해 만들 수 있는 대칭수 중 가장 큰 수는 9009 (= 91 × 99) 입니다.\n",
    "\n",
    "세 자리 수를 곱해 만들 수 있는 가장 큰 대칭수는 얼마입니까?"
   ]
  },
  {
   "cell_type": "code",
   "execution_count": 25,
   "metadata": {
    "collapsed": false
   },
   "outputs": [
    {
     "name": "stdout",
     "output_type": "stream",
     "text": [
      "가장 큰 대칭수는  906609\n"
     ]
    }
   ],
   "source": [
    "big = 1\n",
    "for i in range(100, 999):\n",
    "    for j in range(100, 999):\n",
    "        result = i*j\n",
    "        a = result%10\n",
    "        b = (result/10)%10\n",
    "        c = (result/100)%10\n",
    "        d = (result/1000)%10\n",
    "        e = (result/10000)%10\n",
    "        f = (result/100000)%10\n",
    "        if(a == f):\n",
    "            if(b == e):\n",
    "                if(c == d):\n",
    "                    if (big <= result):\n",
    "                        big = result\n",
    "print \"가장 큰 대칭수는 \", big\n",
    "        \n",
    "        "
   ]
  },
  {
   "cell_type": "markdown",
   "metadata": {},
   "source": [
    "100부터 999까지 안에서 두 수를 곱하여 대칭수의 조건에 만족하는 수중 가장 큰수를 big 이라는 변수에 비교하며 할당하여 출력합니다."
   ]
  },
  {
   "cell_type": "markdown",
   "metadata": {},
   "source": [
    "1 ~ 10 사이의 어떤 수로도 나누어 떨어지는 가장 작은 수는 2520입니다.\n",
    "\n",
    "그러면 1 ~ 20 사이의 어떤 수로도 나누어 떨어지는 가장 작은 수는 얼마입니까?\n"
   ]
  },
  {
   "cell_type": "code",
   "execution_count": null,
   "metadata": {
    "collapsed": false
   },
   "outputs": [],
   "source": [
    "def FindNum(n):\n",
    "        switch = True\n",
    "        i = 2\n",
    "        while i < 21 and switch:\n",
    "            if n % i != 0:\n",
    "                switch = False\n",
    "            i += 1\n",
    "            \n",
    "        return switch\n",
    "    \n",
    "def Answer():\n",
    "    \n",
    "        an = 1\n",
    "        \n",
    "        while True:    \n",
    "            \n",
    "            if FindNum(an):\n",
    "                return an\n",
    "            an += 1\n",
    "            \n",
    "print Answer()"
   ]
  },
  {
   "cell_type": "markdown",
   "metadata": {
    "collapsed": true
   },
   "source": []
  },
  {
   "cell_type": "markdown",
   "metadata": {
    "collapsed": true
   },
   "source": [
    "1부터 100까지 자연수에 대해 \"합의 제곱\"과 \"제곱의 합\"의 차이는 얼마입니까?"
   ]
  },
  {
   "cell_type": "code",
   "execution_count": 32,
   "metadata": {
    "collapsed": false
   },
   "outputs": [
    {
     "name": "stdout",
     "output_type": "stream",
     "text": [
      "25164150\n"
     ]
    }
   ],
   "source": [
    "import math\n",
    "n = 100\n",
    "sum1 = (n * (n + 1) * (2*n + 1)) / 6\n",
    "sum2 = ((n * (n + 1)) / 2) ** 2\n",
    "    \n",
    "print sum2 - sum1"
   ]
  },
  {
   "cell_type": "markdown",
   "metadata": {
    "collapsed": true
   },
   "source": [
    "수학공식인 자연수의 합을 구하는 공식과 제곱의 합을 구하는 공식들을 활용하여 해결하였습니다. "
   ]
  },
  {
   "cell_type": "markdown",
   "metadata": {},
   "source": [
    "웹 URL로 지정된 웹페이지를 문자열로 가져와 1) 모든 HTML 태그를 제외한 순수 텍스트 문자열만을 걸러내고, 2) 그 순수 텍스트 문자열 안에 존재하는 단어가 총 몇개인지 출력하는 프로그램을 작성하시오.\n",
    "HTML 태그는 다음 조건을 가지는 것이다.\n",
    "< 로 시작하여 >로 끝난다.\n",
    "예를 들어, 아래와 같은 HTML 내용 내에 한 줄이 있다고 가정하자.\n",
    "<label for=\"keep_signed\">로그인 유지</label>\n",
    "위 소스에서 HTML 태그를 제외한 순수 텍스트 문자열은 아래와 같다.\n",
    "로그인 유지\n",
    "한편, 아래와 같은 HTML 한 줄이 있다고 가정하자.\n",
    "<link rel=\"stylesheet\" href=\"/common/css/xe.min.css?20150910092654\" />\n",
    "위 소스는 HTML 태그로만 구성된 것이며 걸러낼 수 있는 순수 텍스 문자열은 존재하지 않는다.\n",
    "단어를 나누는 기준은 오로지 공백문자 (whitespace)이다.\n",
    "즉, 위 순수 텍스트 문자열인 \"로그인 유지\"에서 분리한 단어는 \"로그인\"과 \"유지\"이다.\n",
    "다음은 URL로 지정된 웹페이지를 특정 문자열로 가져오는 코드이다.\n",
    "즉, 숙제 코드는 아래 코드로 부터 시작해야 한다."
   ]
  },
  {
   "cell_type": "code",
   "execution_count": 24,
   "metadata": {
    "collapsed": false
   },
   "outputs": [
    {
     "name": "stdout",
     "output_type": "stream",
     "text": [
      "432\n",
      "0 컴퓨터공학부\n",
      "1 Schoolfun\n",
      "2 -\n",
      "3 Study\n",
      "4 and\n",
      "5 Fun\n",
      "6 로그인\n",
      "7 로그인\n",
      "8 아이디\n",
      "9 비밀번호\n",
      "10 로그인\n",
      "11 유지\n",
      "12 브라우저를\n",
      "13 닫더라도\n",
      "14 로그인이\n",
      "15 계속\n",
      "16 유지될\n",
      "17 수\n",
      "18 있습니다.\n",
      "19 로그인\n",
      "20 유지\n",
      "21 기능을\n",
      "22 사용할\n",
      "23 경우\n",
      "24 다음\n",
      "25 접속부터는\n",
      "26 로그인할\n",
      "27 필요가\n",
      "28 없습니다.\n",
      "29 단,\n",
      "30 게임방,\n",
      "31 학교\n",
      "32 등\n",
      "33 공공장소에서\n",
      "34 이용\n",
      "35 시\n",
      "36 개인정보가\n",
      "37 유출될\n",
      "38 수\n",
      "39 있으니\n",
      "40 꼭\n",
      "41 로그아웃을\n",
      "42 해주세요.\n",
      "43 회원가입\n",
      "44 ID/PW\n",
      "45 찾기\n",
      "46 IT\n",
      "47 교육의\n",
      "48 글로벌\n",
      "49 메카!한국기술교육대학교\n",
      "50 컴퓨터공학부\n",
      "51 Close\n",
      "52 소개\n",
      "53 구성원소개\n",
      "54 학사안내\n",
      "55 입학\n",
      "56 학부\n",
      "57 대학원\n",
      "58 학부광장\n",
      "59 자료실\n",
      "60 대학원\n",
      "61 공학교육인증\n",
      "62 Registration\n",
      "63 컴퓨터공학부\n",
      "64 School\n",
      "65 of\n",
      "66 Computer\n",
      "67 Science\n",
      "68 and\n",
      "69 Engineering\n",
      "70 IT\n",
      "71 융합소프트웨어\n",
      "72 인력양성사업\n",
      "73 CK\n",
      "74 (Creative\n",
      "75 Korea)-I\n",
      "76 교육역량강화사업\n",
      "77 온라인\n",
      "78 컨텐츠\n",
      "79 Online\n",
      "80 Contents\n",
      "81 for\n",
      "82 Education\n",
      "83 Capability\n",
      "84 Empowerment\n",
      "85 IT\n",
      "86 교육의\n",
      "87 글로벌\n",
      "88 메카\n",
      "89 한국기술교육대학교\n",
      "90 컴퓨터공학부\n",
      "91 홈페이지에\n",
      "92 오신\n",
      "93 것을환영합니다!\n",
      "94 IT\n",
      "95 융합소프트웨어\n",
      "96 인력양성사업\n",
      "97 글로벌\n",
      "98 수준의\n",
      "99 IT전문인력\n",
      "100 양성\n",
      "101 IT융합분야에\n",
      "102 대한\n",
      "103 국제적인\n",
      "104 경쟁력\n",
      "105 고취\n",
      "106 바로가기\n",
      "107 교육역량강화사업\n",
      "108 컨텐츠\n",
      "109 교육역량강화사업\n",
      "110 온라인\n",
      "111 컨텐츠를\n",
      "112 소개합니다.\n",
      "113 바로가기\n",
      "114 공지사항\n",
      "115 [특성화]\n",
      "116 토익,\n",
      "117 오픽\n",
      "118 강좌\n",
      "119 수요조사\n",
      "120 공고\n",
      "121 2015-10-06\n",
      "122 16:41\n",
      "123 16:41\n",
      "124 [특성화]\n",
      "125 IT융합\n",
      "126 개도국\n",
      "127 해외기술지원봉사\n",
      "128 참가자\n",
      "129 모집...\n",
      "130 2015-10-05\n",
      "131 16:38\n",
      "132 16:38\n",
      "133 [특성화]\n",
      "134 장비대여\n",
      "135 안내\n",
      "136 2015-10-05\n",
      "137 15:28\n",
      "138 15:28\n",
      "139 제4회\n",
      "140 TOPCIT\n",
      "141 정기평가\n",
      "142 2015-10-05\n",
      "143 14:56\n",
      "144 14:56\n",
      "145 [특성화]\n",
      "146 국제게임전시회\n",
      "147 G-star\n",
      "148 2015\n",
      "149 참관\n",
      "150 안내\n",
      "151 2015-10-05\n",
      "152 11:51\n",
      "153 11:51\n",
      "154 자유게시판\n",
      "155 (주)\n",
      "156 엔에스이\n",
      "157 에서\n",
      "158 개발자를\n",
      "159 모집합니다.\n",
      "160 2015-09-30\n",
      "161 13:30\n",
      "162 13:30\n",
      "163 졸업작품\n",
      "164 전시회\n",
      "165 컴퓨터공학부\n",
      "166 인기상\n",
      "167 투표\n",
      "168 이벤트\n",
      "169 2015-09-25\n",
      "170 01:21\n",
      "171 01:21\n",
      "172 삼성\n",
      "173 대학생\n",
      "174 프로그래밍\n",
      "175 경진대회\n",
      "176 2015-09-15\n",
      "177 11:17\n",
      "178 11:17\n",
      "179 2015년\n",
      "180 4차\n",
      "181 모의토익\n",
      "182 지원\n",
      "183 2015-09-09\n",
      "184 23:34\n",
      "185 23:34\n",
      "186 난\n",
      "187 괜찮아,\n",
      "188 돌아가면\n",
      "189 되지~\n",
      "190 2015-09-09\n",
      "191 15:51\n",
      "192 15:51\n",
      "193 취업게시판\n",
      "194 [특성화]\n",
      "195 (주)KMW\n",
      "196 인턴사원\n",
      "197 모집공고\n",
      "198 2015-09-23\n",
      "199 14:31\n",
      "200 14:31\n",
      "201 ㈜인젠트\n",
      "202 기술연구소\n",
      "203 전문연구요원\n",
      "204 모집\n",
      "205 2015-09-14\n",
      "206 11:54\n",
      "207 11:54\n",
      "208 펜타인\n",
      "209 2015년도\n",
      "210 신입사원\n",
      "211 채용공고\n",
      "212 2015-09-03\n",
      "213 16:16\n",
      "214 16:16\n",
      "215 LIG인베니아\n",
      "216 (코스닥상장\n",
      "217 LIG그룹사\n",
      "218 디스플레이장비전...\n",
      "219 2015-09-03\n",
      "220 14:01\n",
      "221 14:01\n",
      "222 ㈜\n",
      "223 한울\n",
      "224 소프트웨어\n",
      "225 개발자\n",
      "226 2015-06-18\n",
      "227 10:28\n",
      "228 10:28\n",
      "229 VENTURESQUARE\n",
      "230 경기창조경제혁신센터,\n",
      "231 IoT\n",
      "232 분야\n",
      "233 보육기업\n",
      "234 4개사\n",
      "235 추가...\n",
      "236 2015-10-06\n",
      "237 16:37\n",
      "238 16:37\n",
      "239 [펀다\n",
      "240 매거진]\n",
      "241 핀테크,\n",
      "242 금융과\n",
      "243 기술의\n",
      "244 만남\n",
      "245 #5\n",
      "246 2015-10-06\n",
      "247 15:25\n",
      "248 15:25\n",
      "249 업계\n",
      "250 최고\n",
      "251 슈퍼\n",
      "252 멘토에게\n",
      "253 배우자\n",
      "254 인터랙티브\n",
      "255 교육\n",
      "256 ‘클...\n",
      "257 2015-10-06\n",
      "258 15:12\n",
      "259 15:12\n",
      "260 우리에게\n",
      "261 없는건\n",
      "262 시간이\n",
      "263 아니다\n",
      "264 2015-10-06\n",
      "265 14:57\n",
      "266 14:57\n",
      "267 [코리안\n",
      "268 스타트업을\n",
      "269 위한\n",
      "270 글로벌\n",
      "271 여행\n",
      "272 티켓]\n",
      "273 87편.스타...\n",
      "274 2015-10-06\n",
      "275 14:50\n",
      "276 14:50\n",
      "277 전자신문\n",
      "278 전자신문\n",
      "279 아이티어\n",
      "280 1기\n",
      "281 “생생한\n",
      "282 IT\n",
      "283 소식\n",
      "284 전하겠습니다”\n",
      "285 2015-10-06\n",
      "286 19:51\n",
      "287 19:51\n",
      "288 [해설]2.1㎓\n",
      "289 경매\n",
      "290 `3사3색`\n",
      "291 주장...업계\n",
      "292 \"경매방식\n",
      "293 명...\n",
      "294 2015-10-06\n",
      "295 18:00\n",
      "296 18:00\n",
      "297 세계\n",
      "298 최초\n",
      "299 3밴드\n",
      "300 LTE-A\n",
      "301 공방\n",
      "302 일단락···KT,\n",
      "303 SKT\n",
      "304 상대\n",
      "305 소...\n",
      "306 2015-10-06\n",
      "307 18:00\n",
      "308 18:00\n",
      "309 [ET단상]방송\n",
      "310 콘텐츠\n",
      "311 글로벌\n",
      "312 유통\n",
      "313 활성화를\n",
      "314 위한\n",
      "315 전략\n",
      "316 2015-10-06\n",
      "317 18:00\n",
      "318 18:00\n",
      "319 2.1㎓\n",
      "320 주파수경매\n",
      "321 논란\n",
      "322 `점입가경`…통신3사\n",
      "323 `동상삼몽`\n",
      "324 2015-10-06\n",
      "325 18:00\n",
      "326 18:00\n",
      "327 RE/CODE\n",
      "328 Jack\n",
      "329 Dorsey\n",
      "330 Gets\n",
      "331 His\n",
      "332 A\n",
      "333 Team\n",
      "334 Together\n",
      "335 2015-10-06\n",
      "336 20:20\n",
      "337 20:20\n",
      "338 Look,\n",
      "339 More\n",
      "340 Apple\n",
      "341 Watch\n",
      "342 Commercials!\n",
      "343 2015-10-06\n",
      "344 12:39\n",
      "345 12:39\n",
      "346 Amazon\n",
      "347 Is\n",
      "348 Absolutely\n",
      "349 Eviscerating\n",
      "350 Other\n",
      "351 Retail...\n",
      "352 2015-10-06\n",
      "353 12:00\n",
      "354 12:00\n",
      "355 Twitter\n",
      "356 General\n",
      "357 Counsel\n",
      "358 Vijaya\n",
      "359 Gadde\n",
      "360 Also\n",
      "361 Pull...\n",
      "362 2015-10-06\n",
      "363 11:02\n",
      "364 11:02\n",
      "365 Here’s\n",
      "366 What\n",
      "367 Sony\n",
      "368 Execs\n",
      "369 Said\n",
      "370 About\n",
      "371 Laurene\n",
      "372 Powe...\n",
      "373 2015-10-06\n",
      "374 10:31\n",
      "375 10:31\n",
      "376 Quick\n",
      "377 Navigation\n",
      "378 한국기술교육대학교\n",
      "379 홈페이지\n",
      "380 한국기술교육대학교\n",
      "381 WEBMAIL\n",
      "382 한국기술교육대학교\n",
      "383 온라인\n",
      "384 평생교육원\n",
      "385 교육역량강화사업\n",
      "386 온라인\n",
      "387 컨텐츠\n",
      "388 IT\n",
      "389 융합소프트웨어\n",
      "390 인력양성사업\n",
      "391 Campus\n",
      "392 Location\n",
      "393 Contact\n",
      "394 CSE\n",
      "395 충청남도\n",
      "396 천안시\n",
      "397 동남구\n",
      "398 병천면\n",
      "399 충절로\n",
      "400 1600한국기술교육대학교\n",
      "401 컴퓨터공학부\n",
      "402 학과사무실\n",
      "403 TEL\n",
      "404 (041)\n",
      "405 560\n",
      "406 1460~1461\n",
      "407 FAX\n",
      "408 (041)\n",
      "409 560\n",
      "410 1462\n",
      "411 Facebook\n",
      "412 Twitter\n",
      "413 Google\n",
      "414 Plus\n",
      "415 Linkedin\n",
      "416 (31253)\n",
      "417 충청남도\n",
      "418 천안시\n",
      "419 동남구\n",
      "420 병천면\n",
      "421 충절로\n",
      "422 1600\n",
      "423 (가전리,\n",
      "424 한국기술교육대학교)\n",
      "425 컴퓨터공학부\n",
      "426 Copyright\n",
      "427 ©\n",
      "428 2015.\n",
      "429 All\n",
      "430 rights\n",
      "431 reserved\n"
     ]
    }
   ],
   "source": [
    "import urllib2\n",
    "\n",
    "source = urllib2.urlopen(\"http://cse.kut.ac.kr/\").read()\n",
    "\n",
    "#print source # 추후 숙제 답안 제출 때엔 왼쪽 라인은 주석처리할 것\n",
    "\n",
    "from bs4 import BeautifulSoup\n",
    "\n",
    "s=BeautifulSoup(source)\n",
    "a = s.text.replace(\"//\",\"\")\n",
    "i = a.find('<')\n",
    "e = a.find('>')\n",
    "\n",
    "a= a[0:i] + a[e+1:]\n",
    "w = a.split()\n",
    "print len(w)\n",
    "for t in range(len(w)):\n",
    "    print t, w[t]"
   ]
  },
  {
   "cell_type": "markdown",
   "metadata": {
    "collapsed": true
   },
   "source": [
    "beautifulsoup을 사용하여 태그를 삭제한 후에 replace를 통하여 //를 바꿔준후 < 와 >의 위치를 알려주는 find 함수를 통해 위치값을\n",
    "찾아낸후 a에 붙여넣었습니다. 후에 split을 통해 공백을 제거후 원하는 답을 얻을수 있었습니다. "
   ]
  },
  {
   "cell_type": "markdown",
   "metadata": {},
   "source": [
    "고찰\n",
    "이번 과제를 통해 수를 받거나 문자열을 받은 후 그 문자열의 위치를 알아내어 해답을 구하는 문제들이 많았는데 이를 통해 좀더 문자열과 리스트의 응용에 대해 이해할 수 있었습니다. 또한 오일러문제들을 통해 for 문과 list 를 활용하는 법을 한번 더 익힐 수 있었다고 생각합니다. 마지막 문제는  beautifulsoup을 설치하는 것부터해서 상당히 오랜 시간이 소요되었는데 새로운 라이브러리를 활용하는 법을 배운것 같아 좋은 공부였다고 생각합니다. "
   ]
  }
 ],
 "metadata": {
  "kernelspec": {
   "display_name": "Python 2",
   "language": "python",
   "name": "python2"
  },
  "language_info": {
   "codemirror_mode": {
    "name": "ipython",
    "version": 2
   },
   "file_extension": ".py",
   "mimetype": "text/x-python",
   "name": "python",
   "nbconvert_exporter": "python",
   "pygments_lexer": "ipython2",
   "version": "2.7.9"
  }
 },
 "nbformat": 4,
 "nbformat_minor": 0
}
