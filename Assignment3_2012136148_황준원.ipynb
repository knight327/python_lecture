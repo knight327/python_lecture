{
 "cells": [
  {
   "cell_type": "markdown",
   "metadata": {},
   "source": [
    "<문제1>\n",
    "\n",
    "L=[1, 2, 3, 4, 5]일 때 다음 각 문장을 수행한 후의 결과를 보고 납득할 만한 이유를 설명하시오."
   ]
  },
  {
   "cell_type": "code",
   "execution_count": 2,
   "metadata": {
    "collapsed": false
   },
   "outputs": [
    {
     "name": "stdout",
     "output_type": "stream",
     "text": [
      "[1, 100, 4, 5]\n"
     ]
    }
   ],
   "source": [
    "L = [1,2,3,4,5]\n",
    "L[1:3] = [100]\n",
    "print L"
   ]
  },
  {
   "cell_type": "markdown",
   "metadata": {},
   "source": [
    "리스트 L의 [1:3]의 자리에는 리스트안의 [2,3]을 의미하는 이때 이 자리에 100이라는 숫자 하나만을 할당하므로 전체 리스트는 L = [1,100,4,5]로 바뀌게 된다. "
   ]
  },
  {
   "cell_type": "code",
   "execution_count": 3,
   "metadata": {
    "collapsed": false
   },
   "outputs": [
    {
     "name": "stdout",
     "output_type": "stream",
     "text": [
      "[1, 100, 4, 5]\n"
     ]
    }
   ],
   "source": [
    "L = [1,2,3,4,5]\n",
    "L[1:3] = [(100)]\n",
    "print L"
   ]
  },
  {
   "cell_type": "markdown",
   "metadata": {},
   "source": [
    "역시 리스트 L의 [1:3]의 자리에는 리스트안의 [2,3]을 의미하는데 이때 이 자리에 리스트 안의 튜플 [(100)] 단 하나만을 할당하므로 전체 리스트는 L = [1,100,4,5]로 바뀌게 된다. "
   ]
  },
  {
   "cell_type": "code",
   "execution_count": 16,
   "metadata": {
    "collapsed": false
   },
   "outputs": [
    {
     "ename": "TypeError",
     "evalue": "can only assign an iterable",
     "output_type": "error",
     "traceback": [
      "\u001b[0;31m---------------------------------------------------------------------------\u001b[0m",
      "\u001b[0;31mTypeError\u001b[0m                                 Traceback (most recent call last)",
      "\u001b[0;32m<ipython-input-16-2190a12ebf8f>\u001b[0m in \u001b[0;36m<module>\u001b[0;34m()\u001b[0m\n\u001b[1;32m      1\u001b[0m \u001b[0mL\u001b[0m \u001b[0;34m=\u001b[0m \u001b[0;34m[\u001b[0m\u001b[0;36m1\u001b[0m\u001b[0;34m,\u001b[0m\u001b[0;36m2\u001b[0m\u001b[0;34m,\u001b[0m\u001b[0;36m3\u001b[0m\u001b[0;34m,\u001b[0m\u001b[0;36m4\u001b[0m\u001b[0;34m,\u001b[0m\u001b[0;36m5\u001b[0m\u001b[0;34m]\u001b[0m\u001b[0;34m\u001b[0m\u001b[0m\n\u001b[0;32m----> 2\u001b[0;31m \u001b[0mL\u001b[0m\u001b[0;34m[\u001b[0m\u001b[0;36m1\u001b[0m\u001b[0;34m:\u001b[0m\u001b[0;36m3\u001b[0m\u001b[0;34m]\u001b[0m \u001b[0;34m=\u001b[0m \u001b[0;36m100\u001b[0m\u001b[0;34m\u001b[0m\u001b[0m\n\u001b[0m\u001b[1;32m      3\u001b[0m \u001b[0;32mprint\u001b[0m \u001b[0mL\u001b[0m\u001b[0;34m\u001b[0m\u001b[0m\n",
      "\u001b[0;31mTypeError\u001b[0m: can only assign an iterable"
     ]
    }
   ],
   "source": [
    "L = [1,2,3,4,5]\n",
    "L[1:3] = 100\n",
    "print L"
   ]
  },
  {
   "cell_type": "markdown",
   "metadata": {},
   "source": [
    "L[1:3]은 리스트안의 [2,3], 두자리를 의미하는데 이 때 리스트가 아닌 자료형인 숫자 100 하나 즉 두개 미만을 할당하려하였기때문에 문제가 생긴다. "
   ]
  },
  {
   "cell_type": "code",
   "execution_count": 13,
   "metadata": {
    "collapsed": false
   },
   "outputs": [
    {
     "ename": "TypeError",
     "evalue": "can only assign an iterable",
     "output_type": "error",
     "traceback": [
      "\u001b[0;31m---------------------------------------------------------------------------\u001b[0m",
      "\u001b[0;31mTypeError\u001b[0m                                 Traceback (most recent call last)",
      "\u001b[0;32m<ipython-input-13-c5aa4b5b4c59>\u001b[0m in \u001b[0;36m<module>\u001b[0;34m()\u001b[0m\n\u001b[1;32m      1\u001b[0m \u001b[0mL\u001b[0m \u001b[0;34m=\u001b[0m \u001b[0;34m[\u001b[0m\u001b[0;36m1\u001b[0m\u001b[0;34m,\u001b[0m\u001b[0;36m2\u001b[0m\u001b[0;34m,\u001b[0m\u001b[0;36m3\u001b[0m\u001b[0;34m,\u001b[0m\u001b[0;36m4\u001b[0m\u001b[0;34m,\u001b[0m\u001b[0;36m5\u001b[0m\u001b[0;34m]\u001b[0m\u001b[0;34m\u001b[0m\u001b[0m\n\u001b[0;32m----> 2\u001b[0;31m \u001b[0mL\u001b[0m\u001b[0;34m[\u001b[0m\u001b[0;36m1\u001b[0m\u001b[0;34m:\u001b[0m\u001b[0;36m3\u001b[0m\u001b[0;34m]\u001b[0m \u001b[0;34m=\u001b[0m \u001b[0;34m(\u001b[0m\u001b[0;36m100\u001b[0m\u001b[0;34m)\u001b[0m\u001b[0;34m\u001b[0m\u001b[0m\n\u001b[0m\u001b[1;32m      3\u001b[0m \u001b[0;32mprint\u001b[0m \u001b[0mL\u001b[0m\u001b[0;34m\u001b[0m\u001b[0m\n",
      "\u001b[0;31mTypeError\u001b[0m: can only assign an iterable"
     ]
    }
   ],
   "source": [
    "L = [1,2,3,4,5]\n",
    "L[1:3] = (100)\n",
    "print L"
   ]
  },
  {
   "cell_type": "markdown",
   "metadata": {},
   "source": [
    "역시나 이번 문제도 리스트에 리스트가 아닌 자료형을 두자리 이상에 하나만 할당하려하기때문에 문제가 생긴다. "
   ]
  },
  {
   "cell_type": "code",
   "execution_count": 11,
   "metadata": {
    "collapsed": false
   },
   "outputs": [
    {
     "name": "stdout",
     "output_type": "stream",
     "text": [
      "[1, 100, 101, 102, 4, 5]\n"
     ]
    }
   ],
   "source": [
    "L = [1,2,3,4,5]\n",
    "L[1:3] = (100, 101, 102)\n",
    "print L"
   ]
  },
  {
   "cell_type": "markdown",
   "metadata": {},
   "source": [
    "리스트 L의 [1:3]의 자리에는 리스트안의 [2,3], 인 두자리에 자리에 100, 101, 102 세개의 수를 가진 튜플을 할당하였기 때문에 빈자리가 생기지 않아 문제가 발생하지 않는다."
   ]
  },
  {
   "cell_type": "code",
   "execution_count": 17,
   "metadata": {
    "collapsed": false
   },
   "outputs": [
    {
     "name": "stdout",
     "output_type": "stream",
     "text": [
      "[1, 100, 101, 102, 4, 5]\n"
     ]
    }
   ],
   "source": [
    "L = [1,2,3,4,5]\n",
    "L[1:3] = [100, 101, 102]\n",
    "print L"
   ]
  },
  {
   "cell_type": "markdown",
   "metadata": {},
   "source": [
    "역시나 리스트 L의 [1:3]의 자리에는 리스트안의 [2,3]인데 이 두자리에 자리에 100, 101, 102 세개의 수를 가진 리스트를 할당하였기 때문에 빈자리가 생기지 않아 문제가 발생하지 않는다."
   ]
  },
  {
   "cell_type": "code",
   "execution_count": 18,
   "metadata": {
    "collapsed": false
   },
   "outputs": [
    {
     "name": "stdout",
     "output_type": "stream",
     "text": [
      "[1, (100, 101, 102), 4, 5]\n"
     ]
    }
   ],
   "source": [
    "L = [1,2,3,4,5]\n",
    "L[1:3] = [(100, 101, 102)]\n",
    "print L"
   ]
  },
  {
   "cell_type": "markdown",
   "metadata": {},
   "source": [
    "[(100, 101, 102)]의 경우에는 리스트 안에서 인덱스 한자리만을 의미하지만, L과 같은 리스트형이기때문에 문제가 생기지 않는다. "
   ]
  },
  {
   "cell_type": "code",
   "execution_count": 19,
   "metadata": {
    "collapsed": false
   },
   "outputs": [
    {
     "name": "stdout",
     "output_type": "stream",
     "text": [
      "[1, [100, 101, 102], 4, 5]\n"
     ]
    }
   ],
   "source": [
    "L = [1,2,3,4,5]\n",
    "L[1:3] = [[100, 101, 102]]\n",
    "print L"
   ]
  },
  {
   "cell_type": "markdown",
   "metadata": {},
   "source": [
    "역시나 이문제도 [[100, 101, 102]]는 리스트 안에서 인덱스 한자리만을 의미하지만, L과 같은 리스트형이기때문에 문제가 생기지 않는다. "
   ]
  },
  {
   "cell_type": "markdown",
   "metadata": {},
   "source": [
    "<문제2> \n",
    "\n",
    "문자열 S = 'Hello World and Python'에 대해 다음 요구사항에 대한 Python 코드를 제시하시오.\n",
    "1) 단어의 순서가 역순으로 되어진 문자열 ('Python and World Hello')을 만들고\n",
    "2) 1)의 결과 문자열에 대해 메소드 split과 join을 이용하여 공백을 모두 없엔 문자열 'PythonandWorldHello'을 만드시오.\n"
   ]
  },
  {
   "cell_type": "code",
   "execution_count": 83,
   "metadata": {
    "collapsed": false
   },
   "outputs": [
    {
     "name": "stdout",
     "output_type": "stream",
     "text": [
      " 1) : Python and World Hello \n",
      " 2) : PythonandWorldHello\n"
     ]
    }
   ],
   "source": [
    "S = 'Hello World and Python'\n",
    "S1 = S[::-1]\n",
    "str1 = S1[0:6]\n",
    "str11 = str1[::-1]\n",
    "str2 = S1[6:11]\n",
    "str22 = str2[::-1]\n",
    "str3 = S1[11:16]\n",
    "str33 = str3[::-1]\n",
    "str4 = S1[16:]\n",
    "str44 = \" \" + str4[::-1]\n",
    "S2 = str11 + str22 + str33 + str44\n",
    "print \" 1) : \" + S2\n",
    "S3 = S2.split()\n",
    "S4 = \"\".join(S3)\n",
    "print \" 2) : \" + S4"
   ]
  },
  {
   "cell_type": "markdown",
   "metadata": {},
   "source": [
    "<해설>\n",
    "\n",
    "문자열을 전체를 S[::-1]을 통해 reverse시킨 후 각 문자를 따로 할당해 각각 다시 reverse시킨 후 문자를 합하여 1) : Python and World Hello 를 완성하였습니다. 후에 split(), join()함수를 통해 2) : PythonandWorldHello 를 완성하였습니다. "
   ]
  },
  {
   "cell_type": "markdown",
   "metadata": {},
   "source": [
    "<문제3>\n",
    "\n",
    "a = [1, 2, 3]\n",
    "\n",
    "b = a * 3\n",
    "\n",
    "c = [a] * 3\n",
    "\n",
    "print b\n",
    "\n",
    "print c\n",
    "\n",
    "1) 위 코드를 수행한 이후 다음 코드를 수행한 후 b와 c의 내용을 확인하시오.\n",
    "\n",
    "    a[0]=0\n",
    "\n",
    "2) b와 c 객체의 차이는 무엇인가?"
   ]
  },
  {
   "cell_type": "code",
   "execution_count": 2,
   "metadata": {
    "collapsed": false,
    "scrolled": true
   },
   "outputs": [
    {
     "name": "stdout",
     "output_type": "stream",
     "text": [
      "[1, 2, 3]\n",
      "[1, 2, 3, 1, 2, 3, 1, 2, 3]\n",
      "\n",
      "[1, 2, 3, 1, 2, 3, 1, 2, 3]\n",
      "[[0, 2, 3], [0, 2, 3], [0, 2, 3]]\n"
     ]
    }
   ],
   "source": [
    "a = [1, 2, 3]\n",
    "b = a * 3\n",
    "c = [a] * 3\n",
    "print a\n",
    "print b\n",
    "print\n",
    "a[0] = 0\n",
    "print b\n",
    "print c"
   ]
  },
  {
   "cell_type": "markdown",
   "metadata": {},
   "source": [
    "< 해설 >\n",
    "\n",
    "\n",
    "1) b : [1, 2, 3, 1, 2, 3, 1, 2, 3]\n",
    "   c : [[0, 2, 3], [0, 2, 3], [0, 2, 3]]\n",
    "   \n",
    "2) b 의 경우는 a의 객체가 세개가 나와 총 9개의 elements를 가지게 된 것이고, c의 경우는 a가 리스트에서 각 하나의 element 가 되어서 3개의 인덱스자리를 가진 경우입니다.   "
   ]
  },
  {
   "cell_type": "markdown",
   "metadata": {},
   "source": [
    "<문제 4>\n",
    "\n",
    "다음 문자열을 ':'을 기준으로 분리하여 리스트로 만들고 각 문자열의 좌우 공백을 제거하시오 (즉, 문자열 S에서 l을 만들어라)\n",
    "s = '  first star   :   second star   :    third star  '\n",
    "l = ['first star', 'second star', 'third star']\n",
    "\n",
    "\n",
    "1) for ~ in 문을 이용한 코드를 작성하시오."
   ]
  },
  {
   "cell_type": "code",
   "execution_count": 12,
   "metadata": {
    "collapsed": false
   },
   "outputs": [
    {
     "name": "stdout",
     "output_type": "stream",
     "text": [
      "['first star', 'second star', 'third star']\n"
     ]
    }
   ],
   "source": [
    "s = '  first star   :   second star   :    third star  '\n",
    "\n",
    "L = []\n",
    "index = 0\n",
    "i = 0\n",
    "\n",
    "for i in range((len(s))):\n",
    "    if(s[i] == \":\"):\n",
    "        L.append( s[index+1:i].strip() )\n",
    "        index =+ i\n",
    "    elif( i == (len(s)-1)):\n",
    "        L.append( s[index+1:i].strip() )  \n",
    "print L"
   ]
  },
  {
   "cell_type": "markdown",
   "metadata": {
    "collapsed": false
   },
   "source": [
    "<해설>\n",
    "\n",
    "for 문을 통해 문자열 s에서 : 를 찾으면 index(초기값 0)값의 자리에서 :를 찾았을때의 i 값의 자리까지 를 s[index+1:i] 이런식으로 묶어서 리스트에 append함수를 이용하여 계속 추가합니다.\n",
    "이때 맨 마지막 단어 같은 경우는 :를 만나기전에 끝나므로 len(s)-1 즉 문자열 최대크기 바로전의 수를 i 가 만나게되면 : 이후부터 마지막자리전가지의 문자를 다시 첨부하여줌으로써 모든 문자를 list에 첨부할 수 있습니다. 이때 첨부할때마다 s[index+1:i].strip() 함수를 사용하여 앞뒤의 빈공간을 제거해줄수 있습니다. "
   ]
  },
  {
   "cell_type": "markdown",
   "metadata": {},
   "source": [
    "2) 리스트 내포(list comprehension)를 이용한 코드를 작성하시오."
   ]
  },
  {
   "cell_type": "code",
   "execution_count": 34,
   "metadata": {
    "collapsed": false
   },
   "outputs": [
    {
     "name": "stdout",
     "output_type": "stream",
     "text": [
      "['first star', 'second star', 'third star']\n"
     ]
    }
   ],
   "source": [
    "s = '  first star   :   second star   :    third star  '\n",
    "L = []\n",
    "L = s.split(':')\n",
    "\n",
    "New = [x.rstrip() for x in L]\n",
    "\n",
    "New2 = [x.lstrip() for x in New]\n",
    "\n",
    "print New2   \n"
   ]
  },
  {
   "cell_type": "markdown",
   "metadata": {
    "collapsed": true
   },
   "source": [
    "< 해설 >\n",
    "\n",
    "교수님께서 s.split()을 처음에 사용해도 된다는 말씀을 하셔서 두번째는 첫번째와 다른 코드로 작성하여 그것을 list comprehension 하였습니다. lstrip()과 rstrip()을 두번 이용하였습니다. "
   ]
  },
  {
   "cell_type": "markdown",
   "metadata": {},
   "source": [
    "<문제5>\n",
    "\n",
    "다음과 같이 0보다 큰 정수 리스트 변수 list를 인자로 받는 함수 addall(list)와 addallodd(list)를 for ~ in 리터널과 리스트 내포 방식으로 각각 제시하시오. \n",
    "\n",
    "1) addall(list) 함수 (리스트 내의 모든 정수를 더하는 함수로서 해답으로는 for ~ in 리터럴과 리스트 내포 방식으로 각각 제시하시오.)\n",
    "\n",
    "addall([1])\n",
    "\n",
    "1\n",
    "\n",
    "addall([1, 2, 3, 4, 5, 6, 7, 8, 9])\n",
    "\n",
    "45\n"
   ]
  },
  {
   "cell_type": "code",
   "execution_count": 37,
   "metadata": {
    "collapsed": false
   },
   "outputs": [
    {
     "name": "stdout",
     "output_type": "stream",
     "text": [
      "1\n",
      "45\n"
     ]
    }
   ],
   "source": [
    "def addall(s):\n",
    "    sum = 0\n",
    "    for x in s: \n",
    "        if(x>=0):\n",
    "            sum += x\n",
    "    return sum\n",
    "L = [1]\n",
    "L2 = [1,2,3,4,5,6,7,8,9]\n",
    "\n",
    "print addall(L)\n",
    "print addall(L2)\n"
   ]
  },
  {
   "cell_type": "code",
   "execution_count": 41,
   "metadata": {
    "collapsed": false
   },
   "outputs": [
    {
     "name": "stdout",
     "output_type": "stream",
     "text": [
      "1\n",
      "45\n"
     ]
    }
   ],
   "source": [
    "def addall(s):\n",
    "    return sum([x for x in s if x >= 0],0)\n",
    "L = [1]\n",
    "L2 = [1,2,3,4,5,6,7,8,9]\n",
    "print addall(L)\n",
    "print addall(L2)\n"
   ]
  },
  {
   "cell_type": "markdown",
   "metadata": {},
   "source": [
    "<해설>\n",
    "\n",
    "addall()함수에 변수 하나를 받고 그 변수의 내용을 for x in s 문을 통해 하나씩 0보다 큰수만 선택하여 모든 더한 후 그 더한값을 리턴합니다. 이 내용을 리스트내포로 옮겨서 두번째도 해결하였습니다. \n"
   ]
  },
  {
   "cell_type": "markdown",
   "metadata": {},
   "source": [
    "2) addallodd(list) 함수 (리스트내의 모든 홀수를 더하는 함수로서 해답으로는 for ~ in 리터럴과 리스트 내포 방식으로 각각 제시하시오.)\n",
    "\n",
    "addallodd([1])\n",
    "\n",
    "1\n",
    "\n",
    "addallodd([1, 2, 3, 4, 5, 6, 7, 8, 9])\n",
    "\n",
    "25"
   ]
  },
  {
   "cell_type": "code",
   "execution_count": 121,
   "metadata": {
    "collapsed": false,
    "scrolled": true
   },
   "outputs": [
    {
     "name": "stdout",
     "output_type": "stream",
     "text": [
      "1\n",
      "25\n"
     ]
    }
   ],
   "source": [
    "def addallodd(s):\n",
    "    sum = 0\n",
    "    for x in s: \n",
    "        if(x >= 0 and x%2 == 1):\n",
    "            sum += x\n",
    "    return sum\n",
    "L = [1]\n",
    "L2 = [1,2,3,4,5,6,7,8,9]\n",
    "\n",
    "print addallodd(L)\n",
    "print addallodd(L2)"
   ]
  },
  {
   "cell_type": "code",
   "execution_count": 43,
   "metadata": {
    "collapsed": false
   },
   "outputs": [
    {
     "name": "stdout",
     "output_type": "stream",
     "text": [
      "1\n",
      "25\n"
     ]
    }
   ],
   "source": [
    "def addallodd(s):\n",
    "    return sum([x for x in s if x >= 0 and x % 2 == 1],0)\n",
    "\n",
    "L = [1]\n",
    "L2 = [1,2,3,4,5,6,7,8,9]\n",
    "\n",
    "print addallodd(L)\n",
    "print addallodd(L2)"
   ]
  },
  {
   "cell_type": "markdown",
   "metadata": {},
   "source": [
    "<해설>\n",
    "\n",
    "addall()함수에 변수 하나를 받고 그 변수의 내용을 for x in s 문을 통해 하나씩 0보다 큰 홀수만 선택하여 모든 더한 후 그 더한값을 리턴합니다. 역시 그내용을 리스트내포함수에 넣어서 완성하였습니다. "
   ]
  },
  {
   "cell_type": "markdown",
   "metadata": {},
   "source": [
    "<문제 6>\n",
    "\n",
    "다음 코드를 보고 물음에 답하시오.\n",
    "\n",
    "L1 = [1, 2, 3]\n",
    "\n",
    "L2 = [4, 5, 6]\n",
    "\n",
    "d = {'low':L1, 'high':L2}\n",
    "\n",
    "e = d\n",
    "\n",
    "f = d.copy()\n",
    "\n",
    "print d\n",
    "\n",
    "print e\n",
    "\n",
    "print f\n",
    "\n",
    "print\n",
    "\n",
    "d['low'] = [10, 20, 30]\n",
    "\n",
    "d['high'][1] = 500\n",
    "\n",
    "print d\n",
    "\n",
    "print e\n",
    "\n",
    "print f\n",
    "\n",
    "1) 위 코드의 수행 결과 d와 e는 항상 같은 결과를 출력한다. 그 이유는 무엇인가?\n",
    " "
   ]
  },
  {
   "cell_type": "code",
   "execution_count": 122,
   "metadata": {
    "collapsed": false
   },
   "outputs": [
    {
     "name": "stdout",
     "output_type": "stream",
     "text": [
      "{'high': [4, 5, 6], 'low': [1, 2, 3]}\n",
      "{'high': [4, 5, 6], 'low': [1, 2, 3]}\n",
      "{'high': [4, 5, 6], 'low': [1, 2, 3]}\n",
      "\n",
      "{'high': [4, 500, 6], 'low': [10, 20, 30]}\n",
      "{'high': [4, 500, 6], 'low': [10, 20, 30]}\n",
      "{'high': [4, 500, 6], 'low': [1, 2, 3]}\n"
     ]
    }
   ],
   "source": [
    "L1 = [1, 2, 3]\n",
    "L2 = [4, 5, 6]\n",
    "d = {'low':L1, 'high':L2}\n",
    "e = d\n",
    "f = d.copy()\n",
    "print d\n",
    "print e\n",
    "print f\n",
    "print\n",
    "d['low'] = [10, 20, 30]\n",
    "d['high'][1] = 500\n",
    "print d\n",
    "print e\n",
    "print f"
   ]
  },
  {
   "cell_type": "markdown",
   "metadata": {},
   "source": [
    "< 해설 >\n",
    "\n",
    " e=d 이 구문에서 e는 d의 객체의 주소를 복사하기때문에 항상 같은 결과를 출력하게 된다.  "
   ]
  },
  {
   "cell_type": "markdown",
   "metadata": {},
   "source": [
    "2) 위 코드의 수행 결과 마지막 f의 내용은 다음과 같다. 이 때 'high' 키의 값 내용 중 500이 출력된 이유와 'low' 키의 값 내용 중 [1, 2, 3]이 출력된 이유를 설명하시오 ([hint]: shallow copy 관점에서 설명하시오.)\n",
    "\n",
    "{'high': [4, 500, 6], 'low': [1, 2, 3]}"
   ]
  },
  {
   "cell_type": "markdown",
   "metadata": {},
   "source": [
    "<해설>\n",
    "\n",
    "d['hight'][1] = 500 문구를 통해 d, e, f의 모두 [4,5,6]에서 [4,500,6]으로 바뀌었다. 하지만 d.copy()는 얕은 복사이기때문에, d['low'] = [10, 20, 30] 리스트 전체의 복사가 이루어지지 않아 바뀌기전 리스트가 출력되었다."
   ]
  },
  {
   "cell_type": "markdown",
   "metadata": {},
   "source": [
    "<문제7>\n",
    "\n",
    "사전 d = {'one':1, 'two':2, 'three':3, 'four':4, 'five':5}가 주어졌을 때 다음 요구사항에 맞는 코드를 제시하시오\n",
    "\n",
    "[참고]: d.keys(), d.values()를 통해 리스트를 얻어낸 후 리스트가 지니고 있는 sort(cmp=None, key=None, reverse=False)함수를 활용하시오.\n",
    "\n",
    "1) 키의 알파벳 오름차순 순서대로 튜플 (키, 값)을 차례대로 출력하시오."
   ]
  },
  {
   "cell_type": "code",
   "execution_count": 181,
   "metadata": {
    "collapsed": false
   },
   "outputs": [
    {
     "name": "stdout",
     "output_type": "stream",
     "text": [
      "정리된 리스트 :  ['five', 'four', 'one', 'three', 'two']\n",
      "(키 값) :  ( five 5 ) ( four 4 ) ( one 1 ) ( three 3 ) ( two 2 )\n"
     ]
    }
   ],
   "source": [
    "d = {'one':1, 'two':2, 'three':3, 'four':4, 'five':5}\n",
    "L = []\n",
    "L = d.keys()\n",
    "L.sort()\n",
    "print \"정리된 리스트 : \", L\n",
    "print \"(키 값) : \",\n",
    "for i in range(len(d)):\n",
    "    print  \"(\" , L[i], d[L[i]], \")\",\n",
    "        "
   ]
  },
  {
   "cell_type": "markdown",
   "metadata": {},
   "source": [
    "<해설>\n",
    "\n",
    "키 값을 list 에 받은 후 오름차순으로 정렬하여 그것을 사전값과 비교하여 키와 값을 순서대로 출력하였습니다. "
   ]
  },
  {
   "cell_type": "markdown",
   "metadata": {},
   "source": [
    "2) 키의 알파벳 내림차순 순서대로 튜플 (키, 값)을 차례대로 출력하시오."
   ]
  },
  {
   "cell_type": "code",
   "execution_count": 184,
   "metadata": {
    "collapsed": false,
    "scrolled": true
   },
   "outputs": [
    {
     "name": "stdout",
     "output_type": "stream",
     "text": [
      "정리된 리스트 :  ['two', 'three', 'one', 'four', 'five']\n",
      "(키 값) :  ( two 2 ) ( three 3 ) ( one 1 ) ( four 4 ) ( five 5 )\n"
     ]
    }
   ],
   "source": [
    "d = {'one':1, 'two':2, 'three':3, 'four':4, 'five':5}\n",
    "L = []\n",
    "L = d.keys()\n",
    "L.sort()\n",
    "L.reverse()\n",
    "print \"정리된 리스트 : \", L\n",
    "print \"(키 값) : \",\n",
    "for i in range(len(d)):\n",
    "    print \"(\" , L[i], d[L[i]], \")\", "
   ]
  },
  {
   "cell_type": "markdown",
   "metadata": {},
   "source": [
    "<해설>\n",
    "\n",
    "앞의 문제와 같은 방식에 reverse() 함수만 추가하여 내림차순으로 출력하였습니다. "
   ]
  },
  {
   "cell_type": "markdown",
   "metadata": {},
   "source": [
    "3) 값의 오름차순 순서대로 튜플 (키, 값)을 차례대로 출력하시오."
   ]
  },
  {
   "cell_type": "code",
   "execution_count": 183,
   "metadata": {
    "collapsed": false
   },
   "outputs": [
    {
     "name": "stdout",
     "output_type": "stream",
     "text": [
      "정리된 리스트 :  [1, 2, 3, 4, 5]\n",
      "(키 값) :  ( one 1 ) ( two 2 ) ( three 3 ) ( four 4 ) ( five 5 )\n"
     ]
    }
   ],
   "source": [
    "d = {'one':1, 'two':2, 'three':3, 'four':4, 'five':5}\n",
    "new_dict = dict (zip(d.values(),d.keys()))\n",
    "L = new_dict.keys()\n",
    "L.sort()\n",
    "print \"정리된 리스트 : \", L\n",
    "print \"(키 값) : \",\n",
    "for i in range(len(d)):\n",
    "    print \"(\",new_dict[L[i]],  L[i], \")\",  "
   ]
  },
  {
   "cell_type": "markdown",
   "metadata": {},
   "source": [
    "< 해설 >\n",
    "\n",
    "딕셔너리의 키값과 벨류 값의 위치를 바꾼 새로운 딕셔너리를 만든 후에 그 값을 리스트에 저장하여 오름차순으로 정리한 후 리스트의 값과 딕셔너리의 값을 비교하여 값의 오름차름 순서대로 최종 출력하였습니다. "
   ]
  },
  {
   "cell_type": "markdown",
   "metadata": {},
   "source": [
    "4) 값의 내림차순 순서대로 튜플 (키, 값)을 차례대로 출력하시오."
   ]
  },
  {
   "cell_type": "code",
   "execution_count": 187,
   "metadata": {
    "collapsed": false
   },
   "outputs": [
    {
     "name": "stdout",
     "output_type": "stream",
     "text": [
      "정리된 리스트 :  [5, 4, 3, 2, 1]\n",
      "(키 값) :  ( five 5 ) ( four 4 ) ( three 3 ) ( two 2 ) ( one 1 )\n"
     ]
    }
   ],
   "source": [
    "d = {'one':1, 'two':2, 'three':3, 'four':4, 'five':5}\n",
    "new_dict = dict (zip(d.values(),d.keys()))\n",
    "L = new_dict.keys()\n",
    "L.sort()\n",
    "L.reverse()\n",
    "print \"정리된 리스트 : \", L\n",
    "print \"(키 값) : \",\n",
    "for i in range(len(d)):\n",
    "    print \"(\",new_dict[L[i]],  L[i], \")\",  "
   ]
  },
  {
   "cell_type": "markdown",
   "metadata": {},
   "source": [
    "< 해설 >\n",
    "\n",
    "위의 문제와 같은 방식에서 reverse()함수를 추가하여 값의 내림차순 순서대로 출력하였습니다. \n"
   ]
  },
  {
   "cell_type": "markdown",
   "metadata": {},
   "source": [
    "< 문제 8 >\n",
    "\n",
    "소수를 크기 순으로 나열하면 2, 3, 5, 7, 11, 13, ... 과 같이 됩니다.\n",
    "\n",
    "이 때 10,001번째의 소수를 구하세요.\n"
   ]
  },
  {
   "cell_type": "code",
   "execution_count": 205,
   "metadata": {
    "collapsed": false
   },
   "outputs": [
    {
     "ename": "KeyboardInterrupt",
     "evalue": "",
     "output_type": "error",
     "traceback": [
      "\u001b[0;31m---------------------------------------------------------------------------\u001b[0m",
      "\u001b[0;31mKeyboardInterrupt\u001b[0m                         Traceback (most recent call last)",
      "\u001b[0;32m<ipython-input-205-5b9496c66f83>\u001b[0m in \u001b[0;36m<module>\u001b[0;34m()\u001b[0m\n\u001b[1;32m      3\u001b[0m \u001b[0;32mfor\u001b[0m \u001b[0mnum\u001b[0m \u001b[0;32min\u001b[0m \u001b[0mrange\u001b[0m\u001b[0;34m(\u001b[0m\u001b[0;36m2\u001b[0m\u001b[0;34m,\u001b[0m \u001b[0;36m1000000\u001b[0m\u001b[0;34m)\u001b[0m\u001b[0;34m:\u001b[0m\u001b[0;34m\u001b[0m\u001b[0m\n\u001b[1;32m      4\u001b[0m     \u001b[0mcount\u001b[0m \u001b[0;34m=\u001b[0m \u001b[0;36m0\u001b[0m\u001b[0;34m\u001b[0m\u001b[0m\n\u001b[0;32m----> 5\u001b[0;31m     \u001b[0;32mfor\u001b[0m \u001b[0mn\u001b[0m \u001b[0;32min\u001b[0m \u001b[0mrange\u001b[0m\u001b[0;34m(\u001b[0m\u001b[0;36m1\u001b[0m\u001b[0;34m,\u001b[0m \u001b[0mnum\u001b[0m\u001b[0;34m+\u001b[0m\u001b[0;36m1\u001b[0m\u001b[0;34m)\u001b[0m\u001b[0;34m:\u001b[0m\u001b[0;34m\u001b[0m\u001b[0m\n\u001b[0m\u001b[1;32m      6\u001b[0m         \u001b[0;32mif\u001b[0m \u001b[0mnum\u001b[0m \u001b[0;34m%\u001b[0m \u001b[0mn\u001b[0m \u001b[0;34m==\u001b[0m \u001b[0;36m0\u001b[0m\u001b[0;34m:\u001b[0m\u001b[0;34m\u001b[0m\u001b[0m\n\u001b[1;32m      7\u001b[0m             \u001b[0mcount\u001b[0m \u001b[0;34m=\u001b[0m \u001b[0mcount\u001b[0m \u001b[0;34m+\u001b[0m \u001b[0;36m1\u001b[0m\u001b[0;34m\u001b[0m\u001b[0m\n",
      "\u001b[0;31mKeyboardInterrupt\u001b[0m: "
     ]
    }
   ],
   "source": [
    "\n",
    "L = []\n",
    "for num in range(2, 1000000):\n",
    "    count = 0\n",
    "    for n in range(1, num+1):\n",
    "        if num % n == 0:\n",
    "            count = count + 1\n",
    "        if count > 2:\n",
    "            break\n",
    "    if count == 2:\n",
    "        L.append(num)\n",
    "\n",
    "print L[10002]        \n",
    "       "
   ]
  },
  {
   "cell_type": "markdown",
   "metadata": {},
   "source": [
    "< 해설 >\n",
    "\n",
    "소수를 for 문을 이용하여 숫자2부터 소수를 리스트에 넣은 후 리스트의 10002번째 자리를 통해\n",
    "10001번째 소수를 알아냅니다. "
   ]
  },
  {
   "cell_type": "markdown",
   "metadata": {},
   "source": [
    "< 문제9 >\n",
    "\n",
    "다음은 연속된 1000자리 숫자입니다 (읽기 좋게 50자리씩 잘라놓음).\n",
    "\n",
    "73167176531330624919225119674426574742355349194934\n",
    "96983520312774506326239578318016984801869478851843\n",
    "85861560789112949495459501737958331952853208805511\n",
    "12540698747158523863050715693290963295227443043557\n",
    "66896648950445244523161731856403098711121722383113\n",
    "62229893423380308135336276614282806444486645238749\n",
    "30358907296290491560440772390713810515859307960866\n",
    "70172427121883998797908792274921901699720888093776\n",
    "65727333001053367881220235421809751254540594752243\n",
    "52584907711670556013604839586446706324415722155397\n",
    "53697817977846174064955149290862569321978468622482\n",
    "83972241375657056057490261407972968652414535100474\n",
    "82166370484403199890008895243450658541227588666881\n",
    "16427171479924442928230863465674813919123162824586\n",
    "17866458359124566529476545682848912883142607690042\n",
    "24219022671055626321111109370544217506941658960408\n",
    "07198403850962455444362981230987879927244284909188\n",
    "84580156166097919133875499200524063689912560717606\n",
    "05886116467109405077541002256983155200055935729725\n",
    "71636269561882670428252483600823257530420752963450\n",
    "\n",
    "여기서 붉게 표시된 71112의 경우 7, 1, 1, 1, 2 각 숫자를 모두 곱하면 14가 됩니다.\n",
    "\n",
    "이런 식으로 맨 처음 (7 × 3 × 1 × 6 × 7 = 882) 부터 맨 끝 (6 × 3 × 4 × 5 × 0 = 0) 까지 5자리 숫자들의 곱을 구할 수 있습니다.\n",
    "이렇게 구할 수 있는 5자리 숫자의 곱 중에서 가장 큰 값은 얼마입니까?"
   ]
  },
  {
   "cell_type": "code",
   "execution_count": 230,
   "metadata": {
    "collapsed": false
   },
   "outputs": [
    {
     "name": "stdout",
     "output_type": "stream",
     "text": [
      "가장 큰 값 :  40824\n"
     ]
    }
   ],
   "source": [
    "L = \"7316717653133062491922511967442657474235534919493496983520312774506326239578318016984801869478851843858615607891129494954595017379583319528532088055111254069874715852386305071569329096329522744304355766896648950445244523161731856403098711121722383113622298934233803081353362766142828064444866452387493035890729629049156044077239071381051585930796086670172427121883998797908792274921901699720888093776657273330010533678812202354218097512545405947522435258490771167055601360483958644670632441572215539753697817977846174064955149290862569321978468622482839722413756570560574902614079729686524145351004748216637048440319989000889524345065854122758866688116427171479924442928230863465674813919123162824586178664583591245665294765456828489128831426076900422421902267105562632111110937054421750694165896040807198403850962455444362981230987879927244284909188845801561660979191338754992005240636899125607176060588611646710940507754100225698315520005593572972571636269561882670428252483600823257530420752963450\"\n",
    "highest = 1\n",
    "for i in range(0,len(L)-5):\n",
    "    multi = int(L[i])*int(L[i+1])*int(L[i+2])*int(L[i+3])*int(L[i+4])\n",
    "    if (multi >= highest):\n",
    "        highest = multi\n",
    "print \"가장 큰 값 : \", highest"
   ]
  },
  {
   "cell_type": "markdown",
   "metadata": {},
   "source": [
    "문제의 저 수를 문자열로 저장한 후에 for 문을 이용하여 매번 5자리씩 묶어서 곱을 구하면서 그 값이 여태까지의 값중에 제일 큰값인지 비교해보고 큰값인 경우 highest 변수에 저장하여 출력한다. "
   ]
  },
  {
   "cell_type": "markdown",
   "metadata": {},
   "source": [
    "< 문제 10 >\n",
    "\n",
    "세 자연수 a, b, c 가 피타고라스 정리 a2 + b2 = c2 를 만족하면 피타고라스 수라고 부릅니다 \n",
    "\n",
    "(여기서 a < b < c ).\n",
    "\n",
    "예를 들면 32 + 42 = 9 + 16 = 25 = 52이므로 3, 4, 5는 피타고라스 수입니다.\n",
    "\n",
    "a + b + c = 1000 인 피타고라스 수 a, b, c는 한 가지 뿐입니다. 이 때, a × b × c 는 얼\n",
    "\n",
    "마입니까?"
   ]
  },
  {
   "cell_type": "code",
   "execution_count": 236,
   "metadata": {
    "collapsed": false
   },
   "outputs": [
    {
     "name": "stdout",
     "output_type": "stream",
     "text": [
      "200 + 375 + 425 = 1000\n",
      "200 * 375 * 425 = 31875000\n"
     ]
    }
   ],
   "source": [
    "for i in range(1, 500):\n",
    "    for j in range(i+1, 500):\n",
    "        for k in range(j+1, 500):\n",
    "            if(i*i) + (j*j) == (k*k):\n",
    "                if(i+j+k) == 1000:\n",
    "                    print i,'+', j,'+', k, \"=\", i+j+k\n",
    "                    print i,\"*\",j,\"*\", k, \"=\", i*j*k"
   ]
  },
  {
   "cell_type": "markdown",
   "metadata": {},
   "source": [
    "< 해설 >\n",
    "\n",
    "for 중첩문을 통하여 (i*i) + (j*j) == (k*k) 조건과 (i+j+k) == 1000 조건에 맞는 수를 찾아내어 출력하였습니다."
   ]
  },
  {
   "cell_type": "markdown",
   "metadata": {
    "collapsed": true
   },
   "source": [
    "< 문제 11 >\n",
    "\n",
    "Incremental Project] 이전 Assignment 2의 마지막 문제는 웹 URL로 지정된 웹페이지를 문자열로 가져와 모든 HTML 태그 및 CSS와 Javascript를 제외한 순수 텍스트를 얻어내고 그 안에 존재하는 단어를 추출하고 단어들의 총 개수를 출력하는 프로그램을 작성하는 것이었다. 이번에는 그 마지막 숙제를 그대로 확장하여 웹 URL로 지정된 웹페이지 내 순수 텍스트 안에 존재하는 각 단어들에 대해 다음 요구사항 대로 출력하는 프로그램을 작성하시오.\n",
    "\n",
    "요구사항 1. 순수 텍스트 안에 존재하는 단어들에 대해 string 모듈을 활용하여 모든 punctuation (구두문자)를 완벽히 제거하시오.\n",
    "\n",
    "예: ['world!', ':', '+hello+', '~python$$$', '=', 'world'] ---> ['world', 'hello', 'python', 'world']\n",
    "\n",
    "모든 punctuation을 확인하는 방법은 아래와 같다.\n",
    "\n",
    "import string\n",
    "\n",
    "print string.punctuation\n",
    "\n",
    "요구사항 2. 만약 punctuation (구두문자)를 제거한 이후 공백으로 판명되는 단어들은 해당 단어 리스트에서 제거하시오.\n",
    "\n",
    "예: ['컴퓨터공학부!', '---?', '%지향~', '...'] ---> ['컴퓨터공학부', '지향']\n",
    "\n",
    "요구사항 3. 각 단어들의 출현빈도를 사전형태로 저장하여 출력하시오.\n",
    "\n",
    "예: ['world', 'hello', 'python', 'world', '컴퓨터공학부', '지향'] --->\n",
    "\n",
    "{'world': 2, 'hello': 1, 'python': 1, '컴퓨터공학부': 1, '지향': 1}\n",
    "\n",
    "요구사항 4. 다음 3개의 사이트에 대한 결과를 출력하시오."
   ]
  },
  {
   "cell_type": "code",
   "execution_count": 151,
   "metadata": {
    "collapsed": false
   },
   "outputs": [
    {
     "name": "stdout",
     "output_type": "stream",
     "text": [
      "{'python': 0, 'world': 1, u'\\ucef4\\ud4e8\\ud130\\uacf5\\ud559\\ubd80': 0, 'hello': 0, u'\\uc9c0\\ud5a5': 0}\n"
     ]
    }
   ],
   "source": [
    "import urllib2\n",
    "import string\n",
    "\n",
    "source = urllib2.urlopen(\"http://www.naver.com\").read()\n",
    "\n",
    "#print source # 추후 숙제 답안 제출 때엔 왼쪽 라인은 주석처리할 것\n",
    "\n",
    "from bs4 import BeautifulSoup\n",
    "\n",
    "s = BeautifulSoup(source)\n",
    "a = s.text.replace(\"//\",\"\")\n",
    "i = a.find('<')\n",
    "e = a.find('>')\n",
    "a= a[0:i] + a[e+1:]\n",
    "w = a.split()\n",
    "\n",
    "# 여기서부터 2번째 문제\n",
    "\n",
    "new = []\n",
    "L = string.punctuation\n",
    "chars = L\n",
    "\n",
    "for x in range(len(w)):\n",
    "    for c in chars:\n",
    "        w[x] = w[x].replace(c, \" \")\n",
    "        w[x] = w[x].replace(\" \",\"\") #punctiation 문자 삭제\n",
    "        \n",
    "w2 =[h for h in w if h != '' ] #리스트의 공백부분 제거  \n",
    "\n",
    "#for x in range(len(w2)):\n",
    "#    print w2[x]\n",
    "\n",
    "sum1 = 0\n",
    "sum2 = 0\n",
    "sum3 = 0\n",
    "sum4 = 0\n",
    "sum5 = 0\n",
    "\n",
    "for x in range(len(w2)):\n",
    "    sum1 += w2[x].count(u'world')\n",
    "    sum2 += w2[x].count(u'hello')\n",
    "    sum3 += w2[x].count(u'python')\n",
    "    sum4 += w2[x].count(u'컴퓨터공학부')\n",
    "    sum5 += w2[x].count(u'지향')\n",
    "    \n",
    "Answer = {'world':sum1, 'hello':sum2, 'python':sum3, u'컴퓨터공학부':sum4, u'지향':sum5}\n",
    "    \n",
    "print Answer\n"
   ]
  },
  {
   "cell_type": "code",
   "execution_count": 152,
   "metadata": {
    "collapsed": false
   },
   "outputs": [
    {
     "name": "stdout",
     "output_type": "stream",
     "text": [
      "{'python': 0, 'world': 0, u'\\ucef4\\ud4e8\\ud130\\uacf5\\ud559\\ubd80': 0, 'hello': 0, u'\\uc9c0\\ud5a5': 0}\n"
     ]
    }
   ],
   "source": [
    "import urllib2\n",
    "import string\n",
    "\n",
    "source = urllib2.urlopen(\"http://www.daum.net\").read()\n",
    "\n",
    "#print source # 추후 숙제 답안 제출 때엔 왼쪽 라인은 주석처리할 것\n",
    "\n",
    "from bs4 import BeautifulSoup\n",
    "\n",
    "s = BeautifulSoup(source)\n",
    "a = s.text.replace(\"//\",\"\")\n",
    "i = a.find('<')\n",
    "e = a.find('>')\n",
    "a= a[0:i] + a[e+1:]\n",
    "w = a.split()\n",
    "\n",
    "# 여기서부터 2번째 문제\n",
    "\n",
    "new = []\n",
    "L = string.punctuation\n",
    "chars = L\n",
    "\n",
    "for x in range(len(w)):\n",
    "    for c in chars:\n",
    "        w[x] = w[x].replace(c, \" \")\n",
    "        w[x] = w[x].replace(\" \",\"\") #punctiation 문자 삭제\n",
    "        \n",
    "w2 =[h for h in w if h != '' ] #리스트의 공백부분 제거  \n",
    "\n",
    "#for x in range(len(w2)):\n",
    "#    print w2[x]\n",
    "\n",
    "sum1 = 0\n",
    "sum2 = 0\n",
    "sum3 = 0\n",
    "sum4 = 0\n",
    "sum5 = 0\n",
    "\n",
    "for x in range(len(w2)):\n",
    "    sum1 += w2[x].count(u'world')\n",
    "    sum2 += w2[x].count(u'hello')\n",
    "    sum3 += w2[x].count(u'python')\n",
    "    sum4 += w2[x].count(u'컴퓨터공학부')\n",
    "    sum5 += w2[x].count(u'지향')\n",
    "    \n",
    "Answer = {'world':sum1, 'hello':sum2, 'python':sum3, u'컴퓨터공학부':sum4, u'지향':sum5}\n",
    "    \n",
    "print Answer"
   ]
  },
  {
   "cell_type": "code",
   "execution_count": 153,
   "metadata": {
    "collapsed": false
   },
   "outputs": [
    {
     "name": "stdout",
     "output_type": "stream",
     "text": [
      "{'python': 0, 'world': 1, u'\\ucef4\\ud4e8\\ud130\\uacf5\\ud559\\ubd80': 0, 'hello': 0, u'\\uc9c0\\ud5a5': 0}\n"
     ]
    }
   ],
   "source": [
    "import urllib2\n",
    "import string\n",
    "\n",
    "source = urllib2.urlopen(\"http://www.nytimes.com\").read()\n",
    "\n",
    "#print source # 추후 숙제 답안 제출 때엔 왼쪽 라인은 주석처리할 것\n",
    "\n",
    "from bs4 import BeautifulSoup\n",
    "\n",
    "s = BeautifulSoup(source)\n",
    "a = s.text.replace(\"//\",\"\")\n",
    "i = a.find('<')\n",
    "e = a.find('>')\n",
    "a= a[0:i] + a[e+1:]\n",
    "w = a.split()\n",
    "\n",
    "# 여기서부터 2번째 문제\n",
    "\n",
    "new = []\n",
    "L = string.punctuation\n",
    "chars = L\n",
    "\n",
    "for x in range(len(w)):\n",
    "    for c in chars:\n",
    "        w[x] = w[x].replace(c, \" \")\n",
    "        w[x] = w[x].replace(\" \",\"\") #punctiation 문자 삭제\n",
    "        \n",
    "w2 =[h for h in w if h != '' ] #리스트의 공백부분 제거  \n",
    "\n",
    "#for x in range(len(w2)):\n",
    "#    print w2[x]\n",
    "\n",
    "sum1 = 0\n",
    "sum2 = 0\n",
    "sum3 = 0\n",
    "sum4 = 0\n",
    "sum5 = 0\n",
    "\n",
    "for x in range(len(w2)):\n",
    "    sum1 += w2[x].count(u'world')\n",
    "    sum2 += w2[x].count(u'hello')\n",
    "    sum3 += w2[x].count(u'python')\n",
    "    sum4 += w2[x].count(u'컴퓨터공학부')\n",
    "    sum5 += w2[x].count(u'지향')\n",
    "    \n",
    "Answer = {'world':sum1, 'hello':sum2, 'python':sum3, u'컴퓨터공학부':sum4, u'지향':sum5}\n",
    "    \n",
    "print Answer"
   ]
  },
  {
   "cell_type": "markdown",
   "metadata": {},
   "source": [
    "< 해설 >\n",
    "\n",
    "punctuation의 문자들을 문자열화 한 후 저번 1번 문제에서 해당 페이지의 문자들을 각각 정리한 것과 비교합니다.  \n",
    "for x in range(len(w)):\n",
    "    for c in chars:\n",
    "        w[x] = w[x].replace(c, \" \")\n",
    "        w[x] = w[x].replace(\" \",\"\") #punctiation 문자 삭제\n",
    "        \n",
    "이런식으로 비교한 후 해당 punctuation 문자를 삭제한 후에 공백이 되어버린 문자들을 빼고\n",
    "정상적인 나머지 문자들을 w2라는 새로운 리스트에 삽입합니다. 그 후에 count 함수를 통해 해당 단어가 사용된 횟수를 모두 더해준후 dictionairy 화 시켜 최종 출력합니다. "
   ]
  },
  {
   "cell_type": "markdown",
   "metadata": {},
   "source": [
    "< 고찰 >\n",
    "\n",
    "이번 과제에서는 전체적으로 문자열과 리스트의 관계를 이해하고 문자열과 리스트 함수를 사용하는 등 이것들을 응용하는 문제가 많았다고 생각합니다. 또한 단순히 저 두개를 응용하는 것과 더불어 리스트 내포를 같이 공부할 수 있었던 점이 좋았다고 생각합니다. 또한 얕은 복사와 깊은 복사를 이해하는 문제덕분에 공부를 한번 더 할 수 있었던 점도 좋았습니다. 마지막문제인 프로젝트 문제는 처음에 어떻게 시작해야할지 굉장히 막막하긴 했지만, replace 함수 사용하는 방법을 수업시간에 알려주신 덕분에 후에는 많이 어렵지 않게 풀어갈 수 있었습니다. "
   ]
  }
 ],
 "metadata": {
  "kernelspec": {
   "display_name": "Python 2",
   "language": "python",
   "name": "python2"
  },
  "language_info": {
   "codemirror_mode": {
    "name": "ipython",
    "version": 2
   },
   "file_extension": ".py",
   "mimetype": "text/x-python",
   "name": "python",
   "nbconvert_exporter": "python",
   "pygments_lexer": "ipython2",
   "version": "2.7.9"
  }
 },
 "nbformat": 4,
 "nbformat_minor": 0
}
