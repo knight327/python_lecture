{
 "cells": [
  {
   "cell_type": "markdown",
   "metadata": {},
   "source": [
    "Assignment 4"
   ]
  },
  {
   "cell_type": "markdown",
   "metadata": {},
   "source": [
    "[1번 문제]\n",
    "파일 s.txt 내의 다음 내용과 함께 아래 문제의 코드를 제시하시오.\n",
    "\n",
    "pig ham\n",
    "cat dog\n",
    "ham bird\n",
    "dog pig\n",
    "           - 1) 파일 s.txt을 읽어서 각 라인에 있는 첫 번째 단어(문자열) 자체들을 기준으로 라인별 정렬후 파일 s1.txt에 그 결과를 기록하는 코드를 작성하시오. 즉, 프로그램 수행 후 s1.txt에 있는 파일 내용은 다음과 같다.\n",
    "\n",
    "cat dog\n",
    "dog pig\n",
    "ham bird\n",
    "pig ham\n"
   ]
  },
  {
   "cell_type": "code",
   "execution_count": 18,
   "metadata": {
    "collapsed": false
   },
   "outputs": [
    {
     "name": "stdout",
     "output_type": "stream",
     "text": [
      "[' cat dog\\n', ' dog pig\\n', ' ham bird\\n', ' pig ham\\n']\n",
      " cat dog\n",
      " dog pig\n",
      " ham bird\n",
      " pig ham\n",
      "\n"
     ]
    }
   ],
   "source": [
    "s = \"\"\" pig ham\n",
    " cat dog\n",
    " ham bird\n",
    " dog pig\\n\"\"\"\n",
    "\n",
    "f = file('s.txt', 'w')\n",
    "f.write(s)\n",
    "f.close()\n",
    "\n",
    "f=file('s.txt')\n",
    "lines = f.readlines()\n",
    "f.close()\n",
    "\n",
    "lines.sort(key=str)\n",
    "print lines\n",
    "\n",
    "k = open('s1.txt', 'w')\n",
    "k.writelines(lines)\n",
    "k.close()\n",
    "\n",
    "k = open('s1.txt')\n",
    "k.seek(0)\n",
    "print k.read()\n",
    "k.close()\n"
   ]
  },
  {
   "cell_type": "markdown",
   "metadata": {},
   "source": [
    "해설\n",
    "\n",
    "파일에 해당내용을 써서 s.txt. 만든 후에 라인단위의 리스트를 만든 후 이것을 다시 라인단위로\n",
    "s1.txt 파일에 작성하여 출력하였습니다."
   ]
  },
  {
   "cell_type": "markdown",
   "metadata": {},
   "source": [
    "2) 파일 s.txt을 읽어서 각 라인에 있는 두 번째 단어(문자열) 자체들을 기준으로 라인별 정렬후 파일 s2.txt에 그 결과를 기록하는 코드를 작성하시오. 즉, 프로그램 수행 후 s2.txt에 있는 파일 내용은 다음과 같다.\n",
    "\n",
    "ham bird\n",
    "cat dog\n",
    "pig ham\n",
    "dog pig"
   ]
  },
  {
   "cell_type": "code",
   "execution_count": 22,
   "metadata": {
    "collapsed": false
   },
   "outputs": [
    {
     "name": "stdout",
     "output_type": "stream",
     "text": [
      "[' ham bird\\n', ' cat dog\\n', ' pig ham\\n', ' dog pig\\n']\n",
      " ham bird\n",
      " cat dog\n",
      " pig ham\n",
      " dog pig\n",
      "\n"
     ]
    }
   ],
   "source": [
    "def Cmp(a, b):\n",
    "    return cmp(a[5], b[5]) \n",
    "\n",
    "s = \"\"\" pig ham\n",
    " cat dog\n",
    " ham bird\n",
    " dog pig\\n\"\"\"\n",
    "\n",
    "f = file('s.txt', 'w')\n",
    "f.write(s)\n",
    "f.close()\n",
    "\n",
    "f=file('s.txt')\n",
    "lines = f.readlines()\n",
    "f.close()\n",
    "\n",
    "lines.sort(cmp=Cmp, key=str)\n",
    "print lines\n",
    "\n",
    "k = open('s2.txt', 'w')\n",
    "k.writelines(lines)\n",
    "k.close()\n",
    "\n",
    "k = open('s2.txt')\n",
    "k.seek(0)\n",
    "print k.read()\n",
    "k.close()"
   ]
  },
  {
   "cell_type": "markdown",
   "metadata": {},
   "source": [
    "해설\n",
    "\n",
    "1번과 같은 형식의 문제인데, 정렬 방법을 각 열의 5번째 열을 비교하는 Cmp함수를 추가하여 비교하였고 나머지는 1번과 같은 방식으로 풀이하여 해답을 구하였습니다."
   ]
  },
  {
   "cell_type": "markdown",
   "metadata": {},
   "source": [
    " - 3) 파일 s.txt을 읽어서 각 라인들에 있는 모든 단어들을 순차적으로 다시 나열하되 각 라인에 세 개의 단어들이 오도록 하여 s3.txt에 기록하는 코드를 작성하시오. 즉, 프로그램 수행 후 s3.txt에 있는 파일 내용은 다음과 같다.\n",
    "\n",
    "pig ham cat\n",
    "dog ham bird\n",
    "dog pig"
   ]
  },
  {
   "cell_type": "code",
   "execution_count": 37,
   "metadata": {
    "collapsed": false
   },
   "outputs": [
    {
     "name": "stdout",
     "output_type": "stream",
     "text": [
      "pig ham cat \n",
      "dog ham bird \n",
      "dog pig \n"
     ]
    }
   ],
   "source": [
    "s = \"\"\" pig ham\n",
    " cat dog\n",
    " ham bird\n",
    " dog pig\\n\"\"\"\n",
    "\n",
    "f = file('s.txt', 'w')\n",
    "f.write(s)\n",
    "f.close()\n",
    "\n",
    "f=file('s.txt')\n",
    "lines = f.read()\n",
    "lines = lines.split()\n",
    "f.close()\n",
    "\n",
    "k = open('s3.txt', 'w')\n",
    "\n",
    "for i in range(0, len(lines)):\n",
    "    k.write(lines[i])\n",
    "    k.write(' ')\n",
    "    if (((i+1)%3 ) == 0 ):\n",
    "        k.write('\\n')\n",
    " \n",
    "k.close()\n",
    "\n",
    "k = open('s3.txt')\n",
    "k.seek(0)\n",
    "print k.read()\n",
    "k.close()\n",
    "    "
   ]
  },
  {
   "cell_type": "markdown",
   "metadata": {},
   "source": [
    "해설\n",
    "\n",
    "s에 내용을 작성한 후 다시 파일을 읽어들인후 그 파일들을 split() 함수를 사용해 단어별로 나눈 리스트를 만듭니다. 후에 리스트의 첫번째 인덱스부터 파일을 작성하면서 4번째일때는 다음줄로 넘어가는 for 문을 이용하여 파일을 새로 작성하여 문제를 해결합니다. "
   ]
  },
  {
   "cell_type": "markdown",
   "metadata": {},
   "source": [
    "[2번 문제]\n",
    "다음과 같은 조건들을 참고하여 회원 가입 및 로그인 프로그램을 작성하시오.\n",
    "\n",
    "1) 프로그램 시작 후 다음과 같은 메시지가 출력되어 1, 2, 3 중 하나의 값을 입력 받도록 한다.\n",
    "Welcome to Our Service\n",
    "\n",
    "Sign Up\n",
    "Sign In\n",
    "Quit"
   ]
  },
  {
   "cell_type": "code",
   "execution_count": 39,
   "metadata": {
    "collapsed": false
   },
   "outputs": [
    {
     "name": "stdout",
     "output_type": "stream",
     "text": [
      "Welcome to Our Service\n",
      "\n",
      "1. Sign Up\n",
      "2. Sign In\n",
      "3. Quit\n",
      "Choose one number(1, 2, or 3) :1\n"
     ]
    }
   ],
   "source": [
    "print \"Welcome to Our Service\"\n",
    "print \n",
    "print \"1. Sign Up\"\n",
    "print \"2. Sign In\"\n",
    "print \"3. Quit\"\n",
    "\n",
    "num = input(\"Choose one number(1, 2, or 3) :\")"
   ]
  },
  {
   "cell_type": "markdown",
   "metadata": {},
   "source": [
    "2) 1을 선택하면 ID, Password, Name, School의 4가지 정보를 입력받아 파일에 저장하는 프로그램을 작성한다.\n",
    "2-1) 입력된 내용은 access.txt 라는 이름의 텍스트 파일 내에 저장된다.\n",
    "2-2) access.txt 파일의 각 라인에는 가입된 회원 각각의 정보가 \"[id]: [password], [name], [school]\" 형태로 저장된다.\n",
    "2-3) 즉, 가입 회원이 10명이면 access.txt 파일 내에 라인 수도 정확히 10개이다.\n",
    "2-4) 암호화 방식은 sha 모듈을 활용한다. sha 모듈 활용 방법은 본 문제의 마지막에 제시된 sha 활용 예를 참고한다.\n",
    "즉, access.txt 파일 내에 password 정보는 암호화 되어 저장되어야 한다.\n",
    "2-5) 회원 정보를 입력 받을 때 id를 입력 받은 직후 access.txt를 확인하여 이미 존재하는 id가 입력되었다면 다음 메시지를 출력하고 id 정보를 다시 입력받는다.\n",
    "Sorry, the entered ID is already used."
   ]
  },
  {
   "cell_type": "code",
   "execution_count": 46,
   "metadata": {
    "collapsed": false
   },
   "outputs": [
    {
     "name": "stdout",
     "output_type": "stream",
     "text": [
      "Welcome to Our Service\n",
      "\n",
      "1. Sign Up\n",
      "2. Sign In\n",
      "3. Quit\n",
      "Choose one number(1, 2, or 3) :1\n",
      " ID : idf\n",
      " Password : wef\n",
      " Name : gwef\n",
      " School : wefwe\n",
      "[idf][wef][gwef][wefwe]\n",
      "\n"
     ]
    }
   ],
   "source": [
    "print \"Welcome to Our Service\"\n",
    "print \n",
    "print \"1. Sign Up\"\n",
    "print \"2. Sign In\"\n",
    "print \"3. Quit\"\n",
    "\n",
    "num = input(\"Choose one number(1, 2, or 3) :\")\n",
    "\n",
    "if (num == 1):\n",
    "    \n",
    "    f = open('access.txt', 'w')\n",
    "    ID = raw_input(\" ID : \")\n",
    "    Pw = raw_input(\" Password : \" )\n",
    "    Name = raw_input(\" Name : \"  )\n",
    "    School = raw_input(\" School : \" )\n",
    "    s = []\n",
    "    s.append(ID)\n",
    "    s.append(Pw)\n",
    "    s.append(Name)\n",
    "    s.append(School)\n",
    "    a =\"[\"\n",
    "    a1 = \"]\"\n",
    "    for i in range(0, len(s)):\n",
    "        f.write(a)\n",
    "        f.write(s[i])\n",
    "        f.write(a1)\n",
    "        if (((i+1)%4 ) == 0 ):\n",
    "            f.write('\\n')\n",
    "    f.close()\n",
    "    \n",
    "\n",
    "f = open('access.txt')\n",
    "f.seek(0)\n",
    "print f.read()\n",
    "f.close()\n"
   ]
  },
  {
   "cell_type": "markdown",
   "metadata": {},
   "source": []
  },
  {
   "cell_type": "markdown",
   "metadata": {},
   "source": [
    "[3번 문제]\n",
    "range() 함수와 유사한 frange() 함수를 다음 조건을 참고하여 만드시오.\n",
    "\n",
    "1) frange()의 인자 구성은 다음과 같이 range와 동일하지만 각 인수들은 음수를 받지 않는다고 가정한다.\n",
    "\n",
    "range(stop)\n",
    "\n",
    "range(start, stop[, step])\n",
    "\n",
    "2) frange() 함수의 인자에 대한 기본 시작(start) 값은 0.0이고, 기본 단계(step) 값은 0.1이다.\n",
    "\n",
    "3) frange 사용 예\n",
    "\n",
    "3-1) frange(0.5)\n",
    "\n",
    "[0.0, 0.1, 0.2, 0.3, 0.4]\n",
    "\n",
    "3-2) frange(1.0, 2.0)\n",
    "\n",
    "[1.0, 1.1, 1.2, 1.3, 1.4, 1.5, 1.6, 1.7, 1.8, 1.9]\n",
    "\n",
    "3-3) frange(2.2, 4.0, 0.5)\n",
    "\n",
    "[2.2, 2.7, 3.2, 3.7]\n"
   ]
  },
  {
   "cell_type": "code",
   "execution_count": 60,
   "metadata": {
    "collapsed": false
   },
   "outputs": [
    {
     "name": "stdout",
     "output_type": "stream",
     "text": [
      "[0.0, 0.1, 0.2, 0.30000000000000004, 0.4]\n",
      "[1.0, 1.1, 1.2, 1.3, 1.4, 1.5, 1.6, 1.7000000000000002, 1.8, 1.9]\n",
      "[2.2, 2.7, 3.2, 3.7]\n"
     ]
    }
   ],
   "source": [
    "def frange(start, stop = None, step = None):\n",
    "        if (stop is None and step is None):\n",
    "            stop = start + 0.0\n",
    "            start = 0.0\n",
    "        if (step is None):\n",
    "            step = 0.1\n",
    "        \n",
    "        i = 0\n",
    "        a = []\n",
    "        while i < (stop):\n",
    "            i = start + len(a) * step\n",
    "            if i >= stop:\n",
    "                break\n",
    "            a.append(i)\n",
    "        \n",
    "        return a \n",
    "    \n",
    "print frange(0.5)\n",
    "print frange(1.0, 2.0)\n",
    "print frange(2.2, 4.0, 0.5)"
   ]
  },
  {
   "cell_type": "markdown",
   "metadata": {},
   "source": [
    "해설\n",
    "\n",
    "인자가 하나만 들어오는 경우를 감안하여 초기에 stop과 step에는 none 값으로 시작합니다. 따라서 하나의 값만 들어올경우 start값이 0.0으로 시작하고 step 값만 none 일경우 step이 0.1로 시작합니다. while 문을 주어 stop 값 이전의 값들을 더하면서 리스트에 추가하도록 하여 해당 함수가 완성되게 하였습니다. "
   ]
  },
  {
   "cell_type": "markdown",
   "metadata": {},
   "source": [
    "[4번 문제]\n",
    "가변인수를 받는 함수 sum()을 다음과 같은 조건을 참고하여 구현하시오\n",
    "\n",
    "sum() 사용 예\n",
    "sum()\n",
    "0\n",
    "sum(1, 2)\n",
    "3\n",
    "sum(1, 2, 3, 4, 5)\n",
    "15\n",
    "sum(1, 5, 7, 2, -10)\n",
    "5"
   ]
  },
  {
   "cell_type": "code",
   "execution_count": 62,
   "metadata": {
    "collapsed": false
   },
   "outputs": [
    {
     "name": "stdout",
     "output_type": "stream",
     "text": [
      "0\n",
      "3\n",
      "15\n",
      "5\n"
     ]
    }
   ],
   "source": [
    "def sum(*args):\n",
    "    if (args is None):\n",
    "        return 0;\n",
    "    else:\n",
    "        sum = 0\n",
    "        for i in args:\n",
    "            sum += i\n",
    "        return sum\n",
    "            \n",
    "print sum()\n",
    "print sum(1,2)\n",
    "print sum(1,2,3,4,5)\n",
    "print sum(1,5,7,2,-10)"
   ]
  },
  {
   "cell_type": "markdown",
   "metadata": {},
   "source": [
    "해설\n",
    "\n",
    "args 값이 존재하지 않는 경우 0을 반환하며 아닌 경우 for문을 이용하여 범위내의 모든 수를 더하여 결과값을 반환합니다."
   ]
  },
  {
   "cell_type": "markdown",
   "metadata": {},
   "source": [
    "[5번 문제]\n",
    "\n",
    "여러 단어로 이루어진 문자열을 입력받아 각 단어의 첫글자로 이루어진 단어를 대문자로 출력하는 myinitial() 함수를 다음 조건을 참고하여 작성하시오.\n",
    "\n",
    "1) 다음에 제시되는 함수들을 모두 이용해야 한다.\n",
    "split\n",
    "map\n",
    "join\n",
    "2) myinitial() 함수 사용 예\n",
    "myinitial(\"as soon as possible\")\n",
    "ASAP"
   ]
  },
  {
   "cell_type": "code",
   "execution_count": 65,
   "metadata": {
    "collapsed": false
   },
   "outputs": [
    {
     "name": "stdout",
     "output_type": "stream",
     "text": [
      "ASAP\n",
      "HP\n",
      "KKJ\n"
     ]
    }
   ],
   "source": [
    "def myinitial(i):\n",
    "        word = i.split()\n",
    "        k = map(lambda i: i[0].upper(), word)\n",
    "        return ''.join(k)\n",
    "print myinitial(\"as soon as possible\")\n",
    "print myinitial(\"hello python\")\n",
    "print myinitial(\"kim kyeng jun\")"
   ]
  },
  {
   "cell_type": "markdown",
   "metadata": {},
   "source": [
    "해설\n",
    "\n",
    "입력된 문자열을 split함수로 나눈 후 첫글자들의 대문자들을 k에 할당하고 띄어져있는 문자들을 join함수를 이용하여 다시 합쳐 반환합니다. "
   ]
  },
  {
   "cell_type": "markdown",
   "metadata": {},
   "source": [
    "[6번 문제]\n",
    "\n",
    "음이 아닌 정수 n를 입력받으면 n! (factorial)을 계산하는 myfact() 함수를 재귀적 함수로 구현하시오.\n",
    "\n",
    "[옵션] 참을 수 있는 정도 만큼의 수행시간을 직접 기다려보면서 n을 늘려보도록 합시다."
   ]
  },
  {
   "cell_type": "code",
   "execution_count": 79,
   "metadata": {
    "collapsed": false
   },
   "outputs": [
    {
     "name": "stdout",
     "output_type": "stream",
     "text": [
      "Enter any number : -10\n",
      "That's a negative number please a choose postive number\n",
      "Enter any number : 900\n",
      "900! = 67526802209645841583879061361800814224269427869589384312198268703685091643180416969132446952698303794226010370578672908593198347699886928591906501031587651846976759681112609524787093848004428636186893395272784450630354080243217646658024696659065951793757223520229235577548653833681102170973893746054649126415909143150172860721156685810655759230011450132992176454983227538696340112610447029002337004887877266387704586077293585433151612518800147764461182680822867092786694982831838641800997499819339206579415325649748486265233918911087114592440896594062675914294925816719862178374679272092637524786939036290035924271782253738059886933923447877769583003016705363339031413069155837518524761078342052635475632113169618774549275701480106933362990003732589370593557325299434734459295866728988740794174654391479926000848846686708729736713207285203712732201272410830836913052635365082888725171636081587151603468291106754640398232146673627370895934090777828827549554232436190464827998683927179246029919443251026464452337939599198528297828591122689960620361238248313158071643395848405047261412680039877733761849874447323867911712630023171745968278465780558568067035013885275080292137360491875164947724464221693533755035300065350065137490832039523382963747026185653050331832380991844842560750923543775188582096487476950254418365198999674684417286265442786651594404781622946901879166382930714196908227460133027605817864877377712193142137625430353718448269390732615776645283198828602917680224041088993892610506802195917247838900106910698057030379190571057605849323113308634452008179881165616449767648354161225066967961297609698742737923389391615207441152319392845687673311899247085327703421862972871644495409572259985563215471482083325653231777113271326579970310755604973969708949477374254974480294652427022436705380184064008853457214518515270985563195412993145274057688634448812449445800617631162768243125606424844709372022149908463572254912654907763445758543980999149122998104378965626781898655221443263601405152073199706585080288735040205417371277253096243200000000000000000000000000000000000000000000000000000000000000000000000000000000000000000000000000000000000000000000000000000000000000000000000000000000000000000000000000000000000000000000000000000000000000000000000000000000\n"
     ]
    }
   ],
   "source": [
    "def myfact(n):\n",
    "    if n == 0 or n == 1:\n",
    "        return 1\n",
    "    else:\n",
    "        return n * myfact(n-1)\n",
    "    \n",
    "a = 0\n",
    "while a == 0:\n",
    "    num = input(\"Enter any number : \")\n",
    "    if num < 0:\n",
    "        print \"That's a negative number please a choose postive number\"\n",
    "        a = 0\n",
    "    else:\n",
    "        print \"%d! = %d\" %(num, myfact(num))\n",
    "        a = 1\n",
    "        "
   ]
  },
  {
   "cell_type": "markdown",
   "metadata": {},
   "source": [
    "해설 \n",
    "\n",
    "n이 0이나 1이 아닌경우 작은 수들을 재귀함수 형태로 계속 곱하게했습니다. 저의 컴퓨터에서는 900을 넘어가면 답이 안나오는 경우가 생겨서 900을 마지막 수로 정했습니다. "
   ]
  },
  {
   "cell_type": "markdown",
   "metadata": {},
   "source": [
    "[7번 문제]\n",
    "\n",
    "(서술형) import string 과 from string import * 의 차이점을 설명하시오."
   ]
  },
  {
   "cell_type": "markdown",
   "metadata": {},
   "source": [
    "import string 같은 경우에는 import 를 통해 string이라는 모듈 객체를 가져옵니다. 하지만 \n",
    "\n",
    "from string import* 를 이용할 경우 모듈 객체를 통째로 가져오지 않고 그 안의 함수들만 가져옵니다"
   ]
  },
  {
   "cell_type": "markdown",
   "metadata": {},
   "source": [
    "[8번 문제]\n",
    "프로젝트 오일러 문제 10\n",
    "\n",
    "10 이하의 소수를 모두 더하면 2 + 3 + 5 + 7 = 17 이 됩니다.\n",
    "\n",
    "이백만(2,000,000) 이하 소수의 합은 얼마입니까?"
   ]
  },
  {
   "cell_type": "code",
   "execution_count": null,
   "metadata": {
    "collapsed": true
   },
   "outputs": [],
   "source": [
    "L = []\n",
    "for num in range(2, 2000000):\n",
    "    count = 0\n",
    "    for n in range(1, num+1):\n",
    "        if num % n == 0:\n",
    "            count = count + 1\n",
    "        if count > 2:\n",
    "            break\n",
    "    if count == 2:\n",
    "        L.append(num)\n",
    "\n",
    "for i in L:\n",
    "    sum = 0\n",
    "    sum += L[i]\n",
    "print sum"
   ]
  },
  {
   "cell_type": "markdown",
   "metadata": {},
   "source": [
    "해설\n",
    "\n",
    "2백만 이하의 소수들을 리스트에 넣은뒤 리스트 안의 모든 숫자들을 더하여 총 합을 구합니다."
   ]
  },
  {
   "cell_type": "markdown",
   "metadata": {},
   "source": [
    "[9번 문제] 프로젝트 오일러 문제 11\n",
    "\n",
    "아래와 같은 20×20 격자가 있습니다.\n",
    "\n",
    "08 02 22 97 38 15 00 40 00 75 04 05 07 78 52 12 50 77 91 08\n",
    "49 49 99 40 17 81 18 57 60 87 17 40 98 43 69 48 04 56 62 00\n",
    "81 49 31 73 55 79 14 29 93 71 40 67 53 88 30 03 49 13 36 65\n",
    "52 70 95 23 04 60 11 42 69 24 68 56 01 32 56 71 37 02 36 91\n",
    "22 31 16 71 51 67 63 89 41 92 36 54 22 40 40 28 66 33 13 80\n",
    "24 47 32 60 99 03 45 02 44 75 33 53 78 36 84 20 35 17 12 50\n",
    "32 98 81 28 64 23 67 10 26 38 40 67 59 54 70 66 18 38 64 70\n",
    "67 26 20 68 02 62 12 20 95 63 94 39 63 08 40 91 66 49 94 21\n",
    "24 55 58 05 66 73 99 26 97 17 78 78 96 83 14 88 34 89 63 72\n",
    "21 36 23 09 75 00 76 44 20 45 35 14 00 61 33 97 34 31 33 95\n",
    "78 17 53 28 22 75 31 67 15 94 03 80 04 62 16 14 09 53 56 92\n",
    "16 39 05 42 96 35 31 47 55 58 88 24 00 17 54 24 36 29 85 57\n",
    "86 56 00 48 35 71 89 07 05 44 44 37 44 60 21 58 51 54 17 58\n",
    "19 80 81 68 05 94 47 69 28 73 92 13 86 52 17 77 04 89 55 40\n",
    "04 52 08 83 97 35 99 16 07 97 57 32 16 26 26 79 33 27 98 66\n",
    "88 36 68 87 57 62 20 72 03 46 33 67 46 55 12 32 63 93 53 69\n",
    "04 42 16 73 38 25 39 11 24 94 72 18 08 46 29 32 40 62 76 36\n",
    "20 69 36 41 72 30 23 88 34 62 99 69 82 67 59 85 74 04 36 16\n",
    "20 73 35 29 78 31 90 01 74 31 49 71 48 86 81 16 23 57 05 54\n",
    "01 70 54 71 83 51 54 69 16 92 33 48 61 43 52 01 89 19 67 48\n",
    "위에서 대각선 방향으로 연속된 붉은 숫자 네 개의 곱은 26 × 63 × 78 × 14 = 1788696 입니다.\n",
    "\n",
    "그러면 수평, 수직, 또는 대각선 방향으로 연속된 숫자 네 개의 곱 중 최대값은 얼마입니까?\n"
   ]
  },
  {
   "cell_type": "code",
   "execution_count": 90,
   "metadata": {
    "collapsed": false
   },
   "outputs": [
    {
     "name": "stdout",
     "output_type": "stream",
     "text": [
      "17\n"
     ]
    }
   ],
   "source": [
    "L = \"08 02 22 97 38 15 00 40 00 75 04 05 07 78 52 12 50 77 91 08 49 49 99 40 17 81 18 57 60 87 17 40 98 43 69 48 04 56 62 00 81 49 31 73 55 79 14 29 93 71 40 67 53 88 30 03 49 13 36 65 52 70 95 23 04 60 11 42 69 24 68 56 01 32 56 71 37 02 36 91 22 31 16 71 51 67 63 89 41 92 36 54 22 40 40 28 66 33 13 80 24 47 32 60 99 03 45 02 44 75 33 53 78 36 84 20 35 17 12 50 32 98 81 28 64 23 67 10 26 38 40 67 59 54 70 66 18 38 64 70 67 26 20 68 02 62 12 20 95 63 94 39 63 08 40 91 66 49 94 21 24 55 58 05 66 73 99 26 97 17 78 78 96 83 14 88 34 89 63 72 21 36 23 09 75 00 76 44 20 45 35 14 00 61 33 97 34 31 33 95 78 17 53 28 22 75 31 67 15 94 03 80 04 62 16 14 09 53 56 92 16 39 05 42 96 35 31 47 55 58 88 24 00 17 54 24 36 29 85 57 86 56 00 48 35 71 89 07 05 44 44 37 44 60 21 58 51 54 17 58 19 80 81 68 05 94 47 69 28 73 92 13 86 52 17 77 04 89 55 40 04 52 08 83 97 35 99 16 07 97 57 32 16 26 26 79 33 27 98 66 88 36 68 87 57 62 20 72 03 46 33 67 46 55 12 32 63 93 53 69 04 42 16 73 38 25 39 11 24 94 72 18 08 46 29 32 40 62 76 36 20 69 36 41 72 30 23 88 34 62 99 69 82 67 59 85 74 04 36 16 20 73 35 29 78 31 90 01 74 31 49 71 48 86 81 16 23 57 05 54 01 70 54 71 83 51 54 69 16 92 33 48 61 43 52 01 89 19 67 48\"\n",
    "L1 = L.split()\n",
    "List = []\n",
    "for x in L1:\n",
    "    List.append(int(x))\n"
   ]
  },
  {
   "cell_type": "code",
   "execution_count": null,
   "metadata": {
    "collapsed": true
   },
   "outputs": [],
   "source": []
  }
 ],
 "metadata": {
  "kernelspec": {
   "display_name": "Python 2",
   "language": "python",
   "name": "python2"
  },
  "language_info": {
   "codemirror_mode": {
    "name": "ipython",
    "version": 2
   },
   "file_extension": ".py",
   "mimetype": "text/x-python",
   "name": "python",
   "nbconvert_exporter": "python",
   "pygments_lexer": "ipython2",
   "version": "2.7.9"
  }
 },
 "nbformat": 4,
 "nbformat_minor": 0
}
