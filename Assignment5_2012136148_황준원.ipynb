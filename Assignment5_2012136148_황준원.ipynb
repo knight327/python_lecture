{
 "cells": [
  {
   "cell_type": "markdown",
   "metadata": {},
   "source": [
    "[1번 문제]\n",
    "\n",
    "클래스와 모듈의 공통점과 차이점에 대해 설명하시오.\n"
   ]
  },
  {
   "cell_type": "markdown",
   "metadata": {},
   "source": [
    " <해설> \n",
    " \n",
    "클래스와 모듈 모두 자신의 이름공간을 제공한다. 하지만 클래스는 자기 자신 자체의 영역내에서 이름공간을 제공하는 대신에 모듈은 파일 단위로 이름공간을 제공한다. "
   ]
  },
  {
   "cell_type": "markdown",
   "metadata": {},
   "source": [
    "[2번 문제]\n",
    "\n",
    "다형성에 대해 설명하고 다형성을 보여주는 자신만의 파이썬 코드 예제를 제시하시오.\n"
   ]
  },
  {
   "cell_type": "markdown",
   "metadata": {},
   "source": [
    "<다형성에 대한 설명>\n",
    "\n",
    "다형성이란 상속 관계내의 다른 클래스들의 인스턴스들이 같은 멤버 함수 호출에 대해 각각 다르게 반응하도록 하는 기능이다. 따라서 적응 ㄴ코딩으로 \n",
    "다양한 객체들에게 유사한 작업을 수행시킬 수 있으며, 프로그램으 코드량이 줄고 가독성이 올라간다.\n"
   ]
  },
  {
   "cell_type": "code",
   "execution_count": 1,
   "metadata": {
    "collapsed": false
   },
   "outputs": [
    {
     "name": "stdout",
     "output_type": "stream",
     "text": [
      "스타크래프트, 디아블로\n",
      "Uncharted, Last ouf Us\n",
      "Elder scrolls, Fallout\n"
     ]
    }
   ],
   "source": [
    "class GameCompany:\n",
    "    def lists(self):\n",
    "        print '...'\n",
    "        \n",
    "class Blizzard(GameCompany):\n",
    "    def lists(self):\n",
    "        print '스타크래프트, 디아블로'\n",
    "        \n",
    "class NuaghtyDog(GameCompany):\n",
    "    def lists(self):\n",
    "        print 'Uncharted, Last ouf Us';\n",
    "        \n",
    "class Bethesda(GameCompany):\n",
    "    def lists(self):\n",
    "        print 'Elder scrolls, Fallout';\n",
    "        \n",
    "\n",
    "for each in (Blizzard(), NuaghtyDog(), Bethesda()):\n",
    "    each.lists()"
   ]
  },
  {
   "cell_type": "markdown",
   "metadata": {},
   "source": [
    "[3번 문제]\n",
    "\n",
    "다음 각 요구사항 모두를 만족시키는 Counter 클래스를 코딩하시오 (정답을 각 요구사항별로 입력할 필요 없이 3번 문제에 대해 1개의 클래스 정의 코드를 제시하면 된다.)\n",
    "\n",
    "요구사항 1. 생성자에 count 값과 step 값을 인자로 받을 수 있다.\n",
    "\n",
    "count: Counter 인스턴스가 지니는 초기 정수 값\n",
    "step: Counter 인스턴스의 count가 증가되는 증분 (defalt 값: 1)\n",
    "\n",
    "요구사항 2. 다음과 같이 Counter의 인스턴스를 출력을 해주는 str() 메소드를 Counter 클래스 내에 구현하시오.\n",
    "\n",
    "요구사항 3. 다음과 같이 step에 주어진 증분만큼 count를 증가시키는 incr() 메소드를 Counter 클래스 내에 구현하시오.\n",
    "\n",
    "요구사항 4. Counter 클래스 내에 관련 메소드를 추가하여 인스턴스 객체를 직접 호출(call)할 수 있도록 하시오. 인스턴스 객체를 직접 호출했을 때에 내부적으로 incr() 메소드를 호출하는 방법으로 구현하시오.\n",
    "\n",
    "요구사항 5. 다음과 같은 두 개의 산술 연산 (+, -)이 수행될 수 있도록 Counter 클래스 내에 관련 메소드를 추가하시오.\n",
    "\n",
    "요구사항 6. 다음과 같은 관계연산 (>, <, ==)이 수행될 수 있도록 Counter 클래스 내에 관련 메소드를 추가하시오.\n"
   ]
  },
  {
   "cell_type": "code",
   "execution_count": 11,
   "metadata": {
    "collapsed": false
   },
   "outputs": [
    {
     "name": "stdout",
     "output_type": "stream",
     "text": [
      "[Count(step: 1)] 10\n",
      "[Count(step: 2)] 10\n",
      "\n",
      "[Count(step: 1)] 11\n",
      "[Count(step: 2)] 12\n",
      "\n",
      "[Count(step: 1)] 12\n",
      "[Count(step: 2)] 14\n",
      "\n",
      "[Count(step: 1)] 17\n",
      "[Count(step: 2)] 9\n",
      "\n",
      "True\n",
      "False\n",
      "False\n",
      "True\n",
      "True\n",
      "False\n"
     ]
    }
   ],
   "source": [
    "class Counter:\n",
    "    def __init__(self, count, step=1):\n",
    "        self.count = count\n",
    "        self.step = step   \n",
    "    def __str__(self):\n",
    "        return '[Count(step: %d)] %d' % (self.step, self.count)\n",
    "    def incr(self):\n",
    "        self.count += self.step\n",
    "    def __call__(self):\n",
    "        self.incr()\n",
    "    def __add__(self, num):\n",
    "        self.count += num\n",
    "        return self\n",
    "    def __sub__(self, num):\n",
    "        self.count -= num\n",
    "        return self\n",
    "    def __cmp__(self, other):\n",
    "        return self.count - other\n",
    "        \n",
    "c = Counter(10)\n",
    "d = Counter(10,2)\n",
    "\n",
    "print c\n",
    "print d\n",
    "print\n",
    "\n",
    "c.incr()\n",
    "d.incr()\n",
    "print c\n",
    "print d\n",
    "print\n",
    "\n",
    "c()\n",
    "d()\n",
    "print c\n",
    "print d\n",
    "print\n",
    "\n",
    "c = c + 5\n",
    "d = d - 5\n",
    "print c\n",
    "print d\n",
    "print\n",
    "\n",
    "print c > 10\n",
    "print d > 10\n",
    "print c < 10\n",
    "print d < 10\n",
    "print c == 17\n",
    "print d != 9"
   ]
  },
  {
   "cell_type": "markdown",
   "metadata": {},
   "source": [
    "<해설>\n",
    "\n",
    "요구사항 1번에 맞추어 생성자에 count 값과 step 값을 인자로 받고 step 값을 default 값에 따라 1로 설정하였습니다. 후에 str()을 통해 리턴값을 가지게 하여 출력을 하게 하였고  incr()를 통하여  self.count 값이 self.step 값만큼 증가하게 하였고 incr()를 함수내에서 호출하는 call() 함수를 만들었습니다. add()는 더하는 연산을 sub()은 빼는 연산을 넣어 온성하였고, cmp() 비교함수는 self.count값에서 받은 값을 빼는 방식으로 음수 양수의 결과값으로 인해 비교하게하였습니다."
   ]
  },
  {
   "cell_type": "markdown",
   "metadata": {
    "collapsed": true
   },
   "source": [
    "[4번 문제]\n",
    "\n",
    "다음은 내장 자료형 list를 서브클래싱하여 만든 MySet 클래스 정의 내용이다. 다음 클래스 정의에서 __init__(), __str()__(), elimicate_duplicate()의 세 개의 메소드 코드 내용을 자신이 다른 사람에게 가르친다고 생각하며 설명해보시오.\n",
    "\n"
   ]
  },
  {
   "cell_type": "code",
   "execution_count": 2,
   "metadata": {
    "collapsed": false
   },
   "outputs": [
    {
     "name": "stdout",
     "output_type": "stream",
     "text": [
      "MySet: {1 ,2 ,3}\n",
      "MySet: {2 ,3 ,4 ,5 ,6 ,7 ,8 ,9}\n"
     ]
    }
   ],
   "source": [
    "class MySet(list):\n",
    "    def __init__(self, l):\n",
    "        for e in l:\n",
    "            self.append(e)\n",
    "        MySet.eliminate_duplicate(self)\n",
    "    \n",
    "    def __str__(self):\n",
    "        result = \"MySet: {\"\n",
    "        for e in self:\n",
    "            result = result + str(e) + \" ,\"\n",
    "        result = result[0:len(result)-2] + \"}\"\n",
    "        return result\n",
    "\n",
    "    @staticmethod    \n",
    "    def eliminate_duplicate(l):\n",
    "        s = []\n",
    "        for e in l:\n",
    "            if e not in s:\n",
    "                s.append(e)\n",
    "        l[:] = []\n",
    "        for e in s:\n",
    "            l.append(e)\n",
    "\n",
    "    \n",
    "if __name__ == \"__main__\":\n",
    "    s = MySet([1, 2, 2, 3])\n",
    "    print s\n",
    "    t = MySet([2, 3, 4, 5, 6, 7, 8, 8, 8, 8, 8, 9])\n",
    "    print t\n",
    "    "
   ]
  },
  {
   "cell_type": "markdown",
   "metadata": {},
   "source": [
    "< 해설 >\n",
    "\n",
    "본 예시의 클래스는 상속에 관한 개념을 설명하는 클래스로써 이 예시의 핵심 내용은 자식 클래스는 부모클래스의 변수 및 기능을 그대로 사용할 수 있다는 것입니다. 여기서 부모클래스는 list 이고 자식클래스는 MySet 입니다. __init__함수는 생성자로서 list 하나를 받아 self.append(e)이 구문을 통해 리스트의 내용을 자기 자신에 추가할 수 있습니다. 이때 append를 이 MySet클래스가 사용할 수 있는 이유는 list 라는 부모클래스에게서 그 기능을 물려받았기 때문입니다. append 구문이 끝난후 \n",
    "MySet.eliminate_duplicate(self) 이렇게 eliminate_duplicate(), 정적 함수를 호출합니다. 이 정적함수는 자신의 인스턴스에 추가하는 모든 작업이 끝난 후 그 인스턴스를 인자로 넘겨줍니다. 그후 넘겨받은 인스턴스 안 각각의 값이 s 라는 리스트에 존재하지 않을 경우 s리스트에 추가하는 작업을 합니다. 그후 받은 인스턴스 l을 초기화 한후에 다시 l에 추가하여 최종적으로 중복이 없는 리스트를 만들게 해줍니다. __str__함수는 print 문에 대응되는 함수로 리스트의 숫자들이 MySet: {1 ,2 ,3} 이러한 형태로 출력되게끔 result 에 문자열열식으로 리스트의 숫자들을 넣어준뒤 result 를 반환하여 출력을 하는 함수입니다. 이상 위 예시에 있는 세가지 함수와 클래스에 관한 설명이었습니다. "
   ]
  },
  {
   "cell_type": "markdown",
   "metadata": {},
   "source": [
    "[5번 문제]\n",
    "4번 문제에 정의된 MySet 클래스에 메소드를 추가하여 다음 각 요구사항 모두를 만족시키는 코딩을 제시하시오\n",
    "\n",
    "정답을 각 요구사항별로 입력할 필요 없이 요구사항 3개 전체에 대해 1개의 MySet 클래스 정의 코드를 제시하고 주석등으로 해당 코드를 설명한다.\n",
    "요구사항 1. | 연산으로 두 집합의 합집합을 반환한다.\n",
    "요구사항 2. & 연산으로 두 집합의 교집합을 반환한다.\n",
    "요구사항 3. - 연산으로 두 집합의 차집합을 반환한다.\n"
   ]
  },
  {
   "cell_type": "code",
   "execution_count": 36,
   "metadata": {
    "collapsed": false
   },
   "outputs": [
    {
     "name": "stdout",
     "output_type": "stream",
     "text": [
      "MySet: {1 ,2 ,3}\n",
      "MySet: {2 ,3 ,4 ,5 ,6 ,7 ,8 ,9}\n",
      "MySet: {1 ,2 ,3 ,4 ,5 ,6 ,7 ,8 ,9}\n"
     ]
    }
   ],
   "source": [
    "class MySet(list):\n",
    "    def __init__(self, l):\n",
    "        for e in l:\n",
    "            self.append(e)\n",
    "        MySet.eliminate_duplicate(self)\n",
    "    \n",
    "    def __str__(self):\n",
    "        result = \"MySet: {\"\n",
    "        for e in self:\n",
    "            result = result + str(e) + \" ,\"\n",
    "        result = result[0:len(result)-2] + \"}\"\n",
    "        return result\n",
    "\n",
    "    @staticmethod    \n",
    "    def eliminate_duplicate(l):\n",
    "        s = []\n",
    "        for e in l:\n",
    "            if e not in s:\n",
    "                s.append(e)\n",
    "        l[:] = []\n",
    "        for e in s:\n",
    "            l.append(e)\n",
    "            \n",
    "#  s|t 에서 |이부분 연산자 오버라이딩 = __or__()\n",
    "    def __or__(self, other):\n",
    "        \n",
    "        for i in other:\n",
    "            if i not in self:\n",
    "                self.append(i)\n",
    "        return self\n",
    "    \n",
    "\n",
    "         \n",
    "        \n",
    "if __name__ == \"__main__\":\n",
    "    s = MySet([1, 2, 2, 3])\n",
    "    print s\n",
    "    t = MySet([2, 3, 4, 5, 6, 7, 8, 8, 8, 8, 8, 9])\n",
    "    print t\n",
    "    \n",
    "    u = s|t\n",
    "    print u\n",
    "  \n",
    " "
   ]
  },
  {
   "cell_type": "code",
   "execution_count": 37,
   "metadata": {
    "collapsed": false
   },
   "outputs": [
    {
     "name": "stdout",
     "output_type": "stream",
     "text": [
      "MySet: {1 ,2 ,3}\n",
      "MySet: {2 ,3 ,4 ,5 ,6 ,7 ,8 ,9}\n",
      "MySet: {2 ,3}\n"
     ]
    }
   ],
   "source": [
    "class MySet(list):\n",
    "    def __init__(self, l):\n",
    "        for e in l:\n",
    "            self.append(e)\n",
    "        MySet.eliminate_duplicate(self)\n",
    "    \n",
    "    def __str__(self):\n",
    "        result = \"MySet: {\"\n",
    "        for e in self:\n",
    "            result = result + str(e) + \" ,\"\n",
    "        result = result[0:len(result)-2] + \"}\"\n",
    "        return result\n",
    "\n",
    "    @staticmethod    \n",
    "    def eliminate_duplicate(l):\n",
    "        s = []\n",
    "        for e in l:\n",
    "            if e not in s:\n",
    "                s.append(e)\n",
    "        l[:] = []\n",
    "        for e in s:\n",
    "            l.append(e)\n",
    "            \n",
    "    \n",
    "#  s & t 에서 &이부분 연산자 오버라이딩 = __and__()\n",
    "    def __and__(self, other):\n",
    "        \n",
    "        a = []\n",
    "        for i in other:\n",
    "            if i in self:\n",
    "                a.append(i);\n",
    "        self[:] = []\n",
    "        for e in a:\n",
    "            self.append(e)\n",
    "        return self\n",
    "    \n",
    "\n",
    "          \n",
    "if __name__ == \"__main__\":\n",
    "    s = MySet([1, 2, 2, 3])\n",
    "    print s\n",
    "    t = MySet([2, 3, 4, 5, 6, 7, 8, 8, 8, 8, 8, 9])\n",
    "    print t\n",
    "    \n",
    "    u = s & t\n",
    "    print u"
   ]
  },
  {
   "cell_type": "code",
   "execution_count": 41,
   "metadata": {
    "collapsed": false
   },
   "outputs": [
    {
     "name": "stdout",
     "output_type": "stream",
     "text": [
      "MySet: {1 ,2 ,3}\n",
      "MySet: {2 ,3 ,4 ,5 ,6 ,7 ,8 ,9}\n",
      "MySet: {1}\n"
     ]
    }
   ],
   "source": [
    "class MySet(list):\n",
    "    def __init__(self, l):\n",
    "        for e in l:\n",
    "            self.append(e)\n",
    "        MySet.eliminate_duplicate(self)\n",
    "    \n",
    "    def __str__(self):\n",
    "        result = \"MySet: {\"\n",
    "        for e in self:\n",
    "            result = result + str(e) + \" ,\"\n",
    "        result = result[0:len(result)-2] + \"}\"\n",
    "        return result\n",
    "\n",
    "    @staticmethod    \n",
    "    def eliminate_duplicate(l):\n",
    "        s = []\n",
    "        for e in l:\n",
    "            if e not in s:\n",
    "                s.append(e)\n",
    "        l[:] = []\n",
    "        for e in s:\n",
    "            l.append(e)\n",
    "    \n",
    "#  s - t 에서 -이부분 연산자 오버라이딩 = __sub__()  \n",
    "    def __sub__(self, other):\n",
    "\n",
    "        a = []\n",
    "        \n",
    "        for i in self:\n",
    "            if (i in self) and (i not in other):\n",
    "                a.append(i);\n",
    "        \n",
    "        self[:] = []\n",
    "        for e in a:\n",
    "            self.append(e)\n",
    "        return self\n",
    "                \n",
    "        \n",
    "if __name__ == \"__main__\":\n",
    "    s = MySet([1, 2, 2, 3])\n",
    "    print s\n",
    "    t = MySet([2, 3, 4, 5, 6, 7, 8, 8, 8, 8, 8, 9])\n",
    "    print t\n",
    "\n",
    "    u = s - t\n",
    "    print u"
   ]
  },
  {
   "cell_type": "markdown",
   "metadata": {},
   "source": [
    "<해설>\n",
    "\n",
    "세 요구사항 모두 오버라이딩을 통하여 or and sub 함수를 만든후 해당 내용에 따라 append 함수를 활용하여 전체 요구사항을 완수하였습니다"
   ]
  },
  {
   "cell_type": "markdown",
   "metadata": {},
   "source": [
    "[6번 문제]\n",
    "\n",
    "5번 문제에서 정의한 MySet 클래스에 대해 다음 예제를 수행하면 오류없이 올바르게 동작하는 것을 확인할 수 있다. 다음 예제 내에 있는 len(), bool() 내장함수와 in 키워드 사용 예제가 별다른 메소드 정의를 하지 않았는 데도 올바르게 수행되는 이유를 설명하시오.\n",
    "\n",
    "> \\>\\>\\> s = MySet([1, 2, 3, 4, 5, 6])  <br/>\n",
    "> \\>\\>\\> print len(s)  <br/>\n",
    "> 6 <br/>\n",
    "> \\>\\>\\> print bool(s)  <br/>\n",
    "> True <br/>\n",
    "> \\>\\>\\> print 2 in s  <br/>\n",
    "> True <br/>"
   ]
  },
  {
   "cell_type": "code",
   "execution_count": 42,
   "metadata": {
    "collapsed": false
   },
   "outputs": [
    {
     "name": "stdout",
     "output_type": "stream",
     "text": [
      "6\n",
      "True\n",
      "True\n"
     ]
    }
   ],
   "source": [
    "s = MySet([1, 2, 3, 4, 5, 6])\n",
    "print len(s)\n",
    "print bool(s)\n",
    "print 2 in s"
   ]
  },
  {
   "cell_type": "markdown",
   "metadata": {},
   "source": [
    "<해설>\n",
    "\n",
    "len(), bool(), in 모두 list클래스에 속하는 함수들이다. 따라서 MySet()클래스는 list 클래스를 상속받는 클래스이기때문에 실행하여도 오류가 나지않는것이다.\n",
    "\n"
   ]
  },
  {
   "cell_type": "markdown",
   "metadata": {},
   "source": [
    "[7번 문제]\n",
    "\n",
    "2^1000의 각 자리수를 모두 더하면 얼마입니까?\n",
    " "
   ]
  },
  {
   "cell_type": "code",
   "execution_count": 49,
   "metadata": {
    "collapsed": false
   },
   "outputs": [
    {
     "name": "stdout",
     "output_type": "stream",
     "text": [
      "1366\n"
     ]
    }
   ],
   "source": [
    "a = str(pow(2,1000))\n",
    "sum = 0\n",
    "for i in a:\n",
    "    sum += int(i)\n",
    "print sum"
   ]
  },
  {
   "cell_type": "markdown",
   "metadata": {},
   "source": [
    "<해설>\n",
    "\n",
    "pow함수를 통해 2^1000숫자를 구한 후 그 수를 string화 한후에 for 반복문을 통하여 각자리의 수를 더하였습니다."
   ]
  },
  {
   "cell_type": "markdown",
   "metadata": {},
   "source": [
    "[8번 문제]\n",
    "\n",
    "1부터 1,000까지 영어로 썼을 때는 모두 몇 개의 글자를 사용해야 할까요?\n",
    " "
   ]
  },
  {
   "cell_type": "code",
   "execution_count": 73,
   "metadata": {
    "collapsed": false
   },
   "outputs": [
    {
     "name": "stdout",
     "output_type": "stream",
     "text": [
      "1부터 99까지의 글자수 : 924\n",
      "100자리수 글자수는 :  (10*99) + 924 + 10 =  1924\n",
      "200자리수 글자수는 :  1924\n",
      "300자리수 글자수는 :  (12*99) + 924 + 12 =  2124\n",
      "400자리수 글자수는 :  2025\n",
      "500자리수 글자수는 :  2025\n",
      "600자리수 글자수는 :  1924\n",
      "700자리수 글자수는 :  2124\n",
      "800자리수 글자수는 :  2124\n",
      "900자리수 글자수는 :  2025\n",
      "결과로 총 글자수는 :  19151\n"
     ]
    }
   ],
   "source": [
    "one = ['','one', 'two', 'three', 'four', 'five', 'six', 'seven', 'eight', 'nine', 'ten'] \n",
    "teen = ['eleven', 'twelve', 'thirteen', 'fourteen', 'fifteen', 'sixteen', 'seventeen', 'eighteen', 'nineteen']\n",
    "tenth = ['twenty', 'thirty', 'forty', 'fifty', 'sixty', 'seventy', 'eighty', 'ninety']\n",
    "onehundred = 10\n",
    "twohundred = 10\n",
    "threehundred = 12\n",
    "thousand = ['thousand']\n",
    "\n",
    "sum = 0\n",
    "\n",
    "for x in one:\n",
    "    sum += len(x)\n",
    "for x in teen:\n",
    "    sum += len(x)\n",
    "for x in tenth:\n",
    "    for y in one:\n",
    "        sum += (len(x) + len(y))\n",
    "print \"1부터 99까지의 글자수 :\", sum\n",
    "b = 10*99+10+924\n",
    "d = 12*99+924+12\n",
    "e = 11*99+924+12\n",
    "\n",
    "print \"100자리수 글자수는 : \", \"(10*99) + 924 + 10 = \", b\n",
    "print \"200자리수 글자수는 : \", b\n",
    "print \"300자리수 글자수는 : \", \"(12*99) + 924 + 12 = \", d \n",
    "print \"400자리수 글자수는 : \", e \n",
    "print \"500자리수 글자수는 : \", e\n",
    "print \"600자리수 글자수는 : \", b\n",
    "print \"700자리수 글자수는 : \", d\n",
    "print \"800자리수 글자수는 : \", d\n",
    "print \"900자리수 글자수는 : \", e\n",
    "result = sum+b+b+d+e+e+b+d+d+e+8\n",
    "print \"결과로 총 글자수는 : \", result"
   ]
  },
  {
   "cell_type": "markdown",
   "metadata": {},
   "source": [
    "< 해설 >\n",
    "\n",
    "1부터 10까지 수, 10의 자리 머릿 수, 그리고 100의 자리수 머릿수 각각의 글자를 리스트화 한후 각각의 상황에 맞게 for문을 이용하여 글자수를 구한후에\n",
    "각각의 100부터 900자리수 각각에 맞춰 합을 구한 후 모든 수를 더하였습니다."
   ]
  },
  {
   "cell_type": "markdown",
   "metadata": {},
   "source": [
    "[9번 문제]\n",
    "\n",
    "다음 삼각형에서 합이 최대가 되는 경로를 찾아서 그 합을 구하세요.\n",
    "\n",
    "13\n",
    "\n",
    "14 75\n",
    "\n",
    "15 95 64\n",
    "\n",
    "16 17 47 82\n",
    "\n",
    "17 18 35 87 10\n",
    "\n",
    "18 20 04 82 47 65\n",
    "\n",
    "19 19 01 23 75 03 34\n",
    "\n",
    "20 88 02 77 73 07 63 67\n",
    "\n",
    "21 99 65 04 28 06 16 70 92\n",
    "\n",
    "22 41 41 26 56 83 40 80 70 33\n",
    "\n",
    "23 41 48 72 33 47 32 37 16 94 29\n",
    "\n",
    "24 53 71 44 65 25 43 91 52 97 51 14\n",
    "\n",
    "25 70 11 33 28 77 73 17 78 39 68 17 57\n",
    "\n",
    "26 91 71 52 38 17 14 91 43 58 50 27 29 48\n",
    "\n",
    "27 63 66 04 68 89 53 67 30 73 16 69 87 40 31\n",
    "\n",
    "28 04 62 98 27 23 09 70 98 73 93 38 53 60 04 23"
   ]
  },
  {
   "cell_type": "code",
   "execution_count": 99,
   "metadata": {
    "collapsed": false
   },
   "outputs": [
    {
     "name": "stdout",
     "output_type": "stream",
     "text": [
      "15\n"
     ]
    }
   ],
   "source": [
    "def make_line(line):\n",
    "    return [int(x) for x in line.split(' ') if x]\n",
    "\n",
    "m = \"\"\"75 \n",
    "95 64 \n",
    "17 47 82 \n",
    "18 35 87 10 \n",
    "20 04 82 47 65 \n",
    "19 01 23 75 03 34 \n",
    "88 02 77 73 07 63 67 \n",
    "99 65 04 28 06 16 70 92 \n",
    "41 41 26 56 83 40 80 70 33 \n",
    "41 48 72 33 47 32 37 16 94 29 \n",
    "53 71 44 65 25 43 91 52 97 51 14 \n",
    "70 11 33 28 77 73 17 78 39 68 17 57 \n",
    "91 71 52 38 17 14 91 43 58 50 27 29 48 \n",
    "63 66 04 68 89 53 67 30 73 16 69 87 40 31 \n",
    "04 62 98 27 23 09 70 98 73 93 38 53 60 04 23 \"\"\" \n",
    "\n",
    "lines = m.split('\\n')\n",
    "l = [x.strip() for x in lines]\n",
    "l = [x.split() for x in l]\n",
    "length = len(num)\n"
   ]
  },
  {
   "cell_type": "markdown",
   "metadata": {},
   "source": [
    "< 해설 >\n",
    "\n"
   ]
  },
  {
   "cell_type": "markdown",
   "metadata": {},
   "source": [
    "< 10번 문제>\n",
    "\n",
    "20세기 (1901년 1월 1일 ~ 2000년 12월 31일) 에서, 매월 1일이 일요일인 경우는 총 몇 번입니까?"
   ]
  },
  {
   "cell_type": "code",
   "execution_count": 104,
   "metadata": {
    "collapsed": false
   },
   "outputs": [
    {
     "name": "stdout",
     "output_type": "stream",
     "text": [
      "총 횟수는 :  171\n"
     ]
    }
   ],
   "source": [
    "import datetime\n",
    "a = datetime.date(1901, 1, 1)\n",
    "\n",
    "sum = 0\n",
    "while a.year < 2001:\n",
    "    if ((a.weekday() == 6) and (a.day == 1)):\n",
    "        sum += 1\n",
    "    a = a + datetime.timedelta(days=1)\n",
    "\n",
    "print \"총 횟수는 : \", sum"
   ]
  },
  {
   "cell_type": "markdown",
   "metadata": {},
   "source": [
    "< 해설 >\n",
    "\n",
    "시간단위로 계산하기 위해 datetime 모듈을 사용하였습니다. 시작시간을 1901년 1월 1일로 설정하고 20001년 전까지 일요일인 경우와 날짜가 1일인 경우가 될때마다 sum이 1씩 올라가도록 반복문을 통해 총 횟수를 구할 수 있었습니다."
   ]
  },
  {
   "cell_type": "markdown",
   "metadata": {},
   "source": [
    "< 11번 문제 >\n",
    "\n",
    "100!의 자리수를 모두 더하면 얼마 입니까?\n"
   ]
  },
  {
   "cell_type": "code",
   "execution_count": 118,
   "metadata": {
    "collapsed": false
   },
   "outputs": [
    {
     "name": "stdout",
     "output_type": "stream",
     "text": [
      "모두 더한 값은 648 입니다.\n"
     ]
    }
   ],
   "source": [
    "def factorial(n):\n",
    "    if n == 0:\n",
    "        return 1\n",
    "    else:\n",
    "        return n * factorial(n-1)\n",
    "a = str(factorial(100))\n",
    "\n",
    "l = [int(x) for x in a]\n",
    "sum = 0\n",
    "for x in l:\n",
    "    sum += x\n",
    "print \"모두 더한 값은\", sum, \"입니다.\""
   ]
  },
  {
   "cell_type": "markdown",
   "metadata": {},
   "source": [
    "<해설>\n",
    "\n",
    "재귀함수를 통해 100!의 값을 구합니다. 그 값을 문자열화 한 후에 각 원소를 int화 하여 모두 더해줍니다.\n",
    "\n"
   ]
  },
  {
   "cell_type": "markdown",
   "metadata": {},
   "source": [
    "12번 문제\n",
    "\n",
    "10000 이하의 친화수들을 모두 찾아서 그 합을 구하세요."
   ]
  },
  {
   "cell_type": "code",
   "execution_count": 136,
   "metadata": {
    "collapsed": false
   },
   "outputs": [
    {
     "name": "stdout",
     "output_type": "stream",
     "text": [
      " 총합은 :  31626\n"
     ]
    }
   ],
   "source": [
    "def GetSum_Divisor(num):\n",
    "    \n",
    "    sum = 0\n",
    "        \n",
    "    for x in range(1, num+1):\n",
    "        if num%x == 0:\n",
    "            sum += x\n",
    "    return sum\n",
    "            \n",
    "    \n",
    "def Get_FriendNumber(num):\n",
    "    \n",
    "    a = GetSum_Divisor(num) - num\n",
    "    if GetSum_Divisor(a) - a == num:\n",
    "        return a\n",
    "    return None\n",
    "\n",
    "result = 0\n",
    "l = []\n",
    "for e in range(1, 10001):\n",
    "    i = Get_FriendNumber(e)\n",
    "    if ((i != None) and (i != e)):\n",
    "        l.append(i)\n",
    "\n",
    "for x in l:\n",
    "    result += x;\n",
    "    \n",
    "print \" 총합은 : \", result\n",
    "        "
   ]
  },
  {
   "cell_type": "markdown",
   "metadata": {},
   "source": [
    "10000이하의 수들 중에 친화수를 Get_FriendNumber() 함수를 통하여 찾습니다. GetSum_Divisor()를 통해 모든 더한값에서 자신의 값을 뺀값이 "
   ]
  },
  {
   "cell_type": "markdown",
   "metadata": {},
   "source": []
  },
  {
   "cell_type": "code",
   "execution_count": 1,
   "metadata": {
    "collapsed": false
   },
   "outputs": [
    {
     "name": "stdout",
     "output_type": "stream",
     "text": [
      "{'python': 0, 'world': 0, u'\\ucef4\\ud4e8\\ud130\\uacf5\\ud559\\ubd80': 0, 'hello': 0, u'\\uc9c0\\ud5a5': 0}\n"
     ]
    }
   ],
   "source": [
    "import urllib2\n",
    "import string\n",
    "\n",
    "source = urllib2.urlopen(\"http://www.nytimes.com\").read()\n",
    "\n",
    "#print source # 추후 숙제 답안 제출 때엔 왼쪽 라인은 주석처리할 것\n",
    "\n",
    "from bs4 import BeautifulSoup\n",
    "\n",
    "s = BeautifulSoup((source),\"html.parser\")\n",
    "                  \n",
    "                  \n",
    "a = s.text.replace(\"//\",\"\")\n",
    "i = a.find('<')\n",
    "e = a.find('>')\n",
    "a= a[0:i] + a[e+1:]\n",
    "w = a.split()\n",
    "\n",
    "# 여기서부터 2번째 문제\n",
    "\n",
    "new = []\n",
    "L = string.punctuation\n",
    "chars = L\n",
    "\n",
    "for x in range(len(w)):\n",
    "    for c in chars:\n",
    "        w[x] = w[x].replace(c, \" \")\n",
    "        w[x] = w[x].replace(\" \",\"\") #punctiation 문자 삭제\n",
    "        \n",
    "w2 =[h for h in w if h != '' ] #리스트의 공백부분 제거  \n",
    "\n",
    "#for x in range(len(w2)):\n",
    "#    print w2[x]\n",
    "\n",
    "sum1 = 0\n",
    "sum2 = 0\n",
    "sum3 = 0\n",
    "sum4 = 0\n",
    "sum5 = 0\n",
    "\n",
    "for x in range(len(w2)):\n",
    "    sum1 += w2[x].count(u'world')\n",
    "    sum2 += w2[x].count(u'hello')\n",
    "    sum3 += w2[x].count(u'python')\n",
    "    sum4 += w2[x].count(u'컴퓨터공학부')\n",
    "    sum5 += w2[x].count(u'지향')\n",
    "    \n",
    "Answer = {'world':sum1, 'hello':sum2, 'python':sum3, u'컴퓨터공학부':sum4, u'지향':sum5}\n",
    "    \n",
    "print Answer"
   ]
  },
  {
   "cell_type": "code",
   "execution_count": null,
   "metadata": {
    "collapsed": true
   },
   "outputs": [],
   "source": []
  },
  {
   "cell_type": "markdown",
   "metadata": {},
   "source": [
    "< 고찰 >\n",
    "\n",
    "이번 과제에서는 클래스에 속하는 개념들을 이용하는 문제들을 다루었다고 생각합니다. 클래스의 상속 및 다형성과 연산에 대한 개념들을 이해하고 적용하여야 문제들을 해결할 수 있었습니다. 자바나 C에서 배운 클래스개념들을 다시 적용하여 배울 수 있었던 과제였다고 생각합니다. \n"
   ]
  },
  {
   "cell_type": "code",
   "execution_count": null,
   "metadata": {
    "collapsed": true
   },
   "outputs": [],
   "source": []
  }
 ],
 "metadata": {
  "kernelspec": {
   "display_name": "Python 2",
   "language": "python",
   "name": "python2"
  },
  "language_info": {
   "codemirror_mode": {
    "name": "ipython",
    "version": 2
   },
   "file_extension": ".py",
   "mimetype": "text/x-python",
   "name": "python",
   "nbconvert_exporter": "python",
   "pygments_lexer": "ipython2",
   "version": "2.7.9"
  }
 },
 "nbformat": 4,
 "nbformat_minor": 0
}
